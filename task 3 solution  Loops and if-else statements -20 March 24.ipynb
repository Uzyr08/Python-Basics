{
 "cells": [
  {
   "cell_type": "markdown",
   "id": "488ab752",
   "metadata": {},
   "source": [
    "## Question no.1"
   ]
  },
  {
   "cell_type": "markdown",
   "id": "23f709b2",
   "metadata": {},
   "source": [
    "Mini calculator using if – else sin, cosine ,tan, square, log, pow, square root, plus arithmetic operations?"
   ]
  },
  {
   "cell_type": "code",
   "execution_count": 1,
   "id": "24c4c1a9",
   "metadata": {},
   "outputs": [],
   "source": [
    "import math as mt"
   ]
  },
  {
   "cell_type": "code",
   "execution_count": 4,
   "id": "9b290932",
   "metadata": {},
   "outputs": [
    {
     "name": "stdout",
     "output_type": "stream",
     "text": [
      "What type of calculator you want to use?\n",
      "1.Simple calculator\n",
      "2.Scientific calculator\n",
      " 1\n",
      "You chose simple calculator\n",
      "Enter first number: 172\n",
      "Enter second number: 23\n",
      "which mathimatical operation you wanna perform?\n",
      "1.Addition\n",
      "2.Subtraction\n",
      "3.Multipication\n",
      "4.Division\n",
      "5.Modulus\n",
      "5\n",
      "172 % 23 =  11\n"
     ]
    }
   ],
   "source": [
    "opt = int(input('What type of calculator you want to use?\\n1.Simple calculator\\n2.Scientific calculator\\n '))\n",
    "if opt==1:\n",
    "    print('You chose simple calculator')\n",
    "    num1 = int(input('Enter first number: '))\n",
    "    num2 = int(input('Enter second number: '))\n",
    "    operation = int(input('which mathimatical operation you wanna perform?\\n1.Addition\\n2.Subtraction\\n3.Multipication\\n4.Division\\n5.Modulus\\n'))\n",
    "    if operation==1:\n",
    "        print(f'{num1} + {num2} = ',num1+num2)\n",
    "    elif operation==2:\n",
    "        print(f'{num1} - {num2} = ',num1-num2)\n",
    "    elif operation==3:\n",
    "        print(f'{num1} x {num2} = ',num1*num2)\n",
    "    elif operation==4:\n",
    "        print(f'{num1} / {num2}  = ',num1/num2)\n",
    "    elif operation==5:\n",
    "        print(f'{num1} % {num2} = ',num1%num2)\n",
    "elif opt==2:\n",
    "    print('You chose scientific calculator')\n",
    "    num = int(input('Enter a number: '))\n",
    "    operation=int(input('What operation you want to perform,choose from options below\\n1.sin\\n2.cos\\n3.tan\\n4.log\\n5.power\\n6.square root\\n'))\n",
    "    if operation==1:\n",
    "        print(f'sin({num}) = ',mt.sin(num))\n",
    "    elif operation==2:\n",
    "        print(f'cos({num}) = ',mt.cos(num))\n",
    "    elif operation==3:\n",
    "        print(f'tan({num}) = ',mt.tan(num))\n",
    "    elif operation==4:\n",
    "        print(f'log({num}) = ',mt.log(num))\n",
    "    elif operation==5:\n",
    "        power=int(input('enter the power: '))\n",
    "        print(f'{num}^{power} = ',num**power )\n",
    "    elif operation==6:\n",
    "        print(f'Square root of {num} = ',(num**(1/2)))"
   ]
  },
  {
   "cell_type": "markdown",
   "id": "440c154b",
   "metadata": {},
   "source": [
    "## Question no.2"
   ]
  },
  {
   "cell_type": "markdown",
   "id": "ee90502b",
   "metadata": {},
   "source": [
    "Edit this program and print the list in reverse order with indexes remain intact?\n",
    "list= ['iqrar', 1000, 'UOP','Hangu']\n",
    "for i in range(len(list)):\n",
    "    print(i, list[i])\n"
   ]
  },
  {
   "cell_type": "code",
   "execution_count": 5,
   "id": "2646737d",
   "metadata": {},
   "outputs": [
    {
     "name": "stdout",
     "output_type": "stream",
     "text": [
      "3 Hangu\n",
      "2 UOP\n",
      "1 1000\n",
      "0 iqrar\n"
     ]
    }
   ],
   "source": [
    "list= ['iqrar', 1000, 'UOP','Hangu']\n",
    "\n",
    "for i in range(len(list)-1,-1,-1):\n",
    "    print(i,list[i])"
   ]
  },
  {
   "cell_type": "markdown",
   "id": "1fd882c6",
   "metadata": {},
   "source": [
    "## Question no.3"
   ]
  },
  {
   "cell_type": "markdown",
   "id": "3ce0df15",
   "metadata": {},
   "source": [
    "Write python program to print a sequence of numbers from 1 to 50 that are divisible by 5?"
   ]
  },
  {
   "cell_type": "code",
   "execution_count": 6,
   "id": "af4fadbd",
   "metadata": {},
   "outputs": [
    {
     "name": "stdout",
     "output_type": "stream",
     "text": [
      "5\n",
      "10\n",
      "15\n",
      "20\n",
      "25\n",
      "30\n",
      "35\n",
      "40\n",
      "45\n",
      "50\n"
     ]
    }
   ],
   "source": [
    "for i in range(5,51,5):\n",
    "    print(i)"
   ]
  },
  {
   "cell_type": "markdown",
   "id": "90dfc4e9",
   "metadata": {},
   "source": [
    "## Question no.4"
   ]
  },
  {
   "cell_type": "markdown",
   "id": "920a07c4",
   "metadata": {},
   "source": [
    "Write python program to print a sequence of even numbers from 1 to 50?"
   ]
  },
  {
   "cell_type": "code",
   "execution_count": 7,
   "id": "04b3a02c",
   "metadata": {},
   "outputs": [
    {
     "name": "stdout",
     "output_type": "stream",
     "text": [
      "0 2 4 6 8 10 12 14 16 18 20 22 24 26 28 30 32 34 36 38 40 42 44 46 48 50 "
     ]
    }
   ],
   "source": [
    "for i in range(0,51,2):\n",
    "    print(i,end=' ')"
   ]
  },
  {
   "cell_type": "markdown",
   "id": "7b279e46",
   "metadata": {},
   "source": [
    "## Question no.5"
   ]
  },
  {
   "cell_type": "markdown",
   "id": "f58df1ef",
   "metadata": {},
   "source": [
    "Write python program to print a sequence of odd numbers from 1 to 50?"
   ]
  },
  {
   "cell_type": "code",
   "execution_count": 8,
   "id": "a79a475f",
   "metadata": {},
   "outputs": [
    {
     "name": "stdout",
     "output_type": "stream",
     "text": [
      "1 3 5 7 9 11 13 15 17 19 21 23 25 27 29 31 33 35 37 39 41 43 45 47 49 "
     ]
    }
   ],
   "source": [
    "for i in range(1,50,2):\n",
    "    print(i,end=' ')"
   ]
  },
  {
   "cell_type": "markdown",
   "id": "57191281",
   "metadata": {},
   "source": [
    "## Question no.6"
   ]
  },
  {
   "cell_type": "markdown",
   "id": "beeeb7f3",
   "metadata": {},
   "source": [
    "Prompt the user to input a word, and Iterate through the characters of the word in reverse order?"
   ]
  },
  {
   "cell_type": "code",
   "execution_count": 9,
   "id": "f4bb2429",
   "metadata": {},
   "outputs": [
    {
     "name": "stdout",
     "output_type": "stream",
     "text": [
      "Enter a word: PYTHON\n",
      "N O H T Y P "
     ]
    }
   ],
   "source": [
    "word = input('Enter a word: ')\n",
    "\n",
    "for i in range(len(word)-1,-1,-1):\n",
    "    print(word[i],end=' ')"
   ]
  },
  {
   "cell_type": "markdown",
   "id": "857eac8e",
   "metadata": {},
   "source": [
    "## Question no.7"
   ]
  },
  {
   "cell_type": "markdown",
   "id": "71ff84b0",
   "metadata": {},
   "source": [
    "Write Python Programs to Print the following Patterns?"
   ]
  },
  {
   "cell_type": "code",
   "execution_count": 10,
   "id": "90a6e290",
   "metadata": {},
   "outputs": [
    {
     "name": "stdout",
     "output_type": "stream",
     "text": [
      "1\n",
      "22\n",
      "333\n",
      "4444\n",
      "55555\n"
     ]
    }
   ],
   "source": [
    "for i in range(1,6):\n",
    "    print(str(i)*i)"
   ]
  },
  {
   "cell_type": "code",
   "execution_count": 12,
   "id": "c1adf540",
   "metadata": {},
   "outputs": [
    {
     "name": "stdout",
     "output_type": "stream",
     "text": [
      "\n",
      "1 \n",
      "2 2 \n",
      "3 3 3 \n",
      "4 4 4 4 \n",
      "5 5 5 5 5 "
     ]
    }
   ],
   "source": [
    "for i in range(1,6):\n",
    "    print('')\n",
    "    for j in range(i):\n",
    "        print(i,end=' ')"
   ]
  },
  {
   "cell_type": "code",
   "execution_count": 14,
   "id": "6fc4c65b",
   "metadata": {},
   "outputs": [
    {
     "name": "stdout",
     "output_type": "stream",
     "text": [
      "\n",
      "1 \n",
      "1 2 \n",
      "1 2 3 \n",
      "1 2 3 4 \n",
      "1 2 3 4 5 "
     ]
    }
   ],
   "source": [
    "for i in range(1,6):\n",
    "    print('')\n",
    "    #print(i,end='')\n",
    "    for j in range(1,i+1):\n",
    "        print(j,end=' ')"
   ]
  },
  {
   "cell_type": "code",
   "execution_count": null,
   "id": "ab0109f7",
   "metadata": {},
   "outputs": [],
   "source": []
  },
  {
   "cell_type": "code",
   "execution_count": null,
   "id": "4cf3edd1",
   "metadata": {},
   "outputs": [],
   "source": []
  }
 ],
 "metadata": {
  "kernelspec": {
   "display_name": "Python 3 (ipykernel)",
   "language": "python",
   "name": "python3"
  },
  "language_info": {
   "codemirror_mode": {
    "name": "ipython",
    "version": 3
   },
   "file_extension": ".py",
   "mimetype": "text/x-python",
   "name": "python",
   "nbconvert_exporter": "python",
   "pygments_lexer": "ipython3",
   "version": "3.11.7"
  },
  "widgets": {
   "application/vnd.jupyter.widget-state+json": {
    "state": {},
    "version_major": 2,
    "version_minor": 0
   }
  }
 },
 "nbformat": 4,
 "nbformat_minor": 5
}
