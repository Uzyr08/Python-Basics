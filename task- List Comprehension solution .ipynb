{
 "cells": [
  {
   "cell_type": "markdown",
   "id": "4deb8bb6-c34b-4ead-b1ff-a390eec90063",
   "metadata": {},
   "source": [
    "### Write a list comprehension to create a list of the squares of numbers from 1 to 30."
   ]
  },
  {
   "cell_type": "code",
   "execution_count": 2,
   "id": "d8724401-5deb-46ad-acf7-4509e03b901e",
   "metadata": {},
   "outputs": [
    {
     "name": "stdout",
     "output_type": "stream",
     "text": [
      "[1, 4, 9, 16, 25, 36, 49, 64, 81, 100, 121, 144, 169, 196, 225, 256, 289, 324, 361, 400, 441, 484, 529, 576, 625, 676, 729, 784, 841, 900]\n"
     ]
    }
   ],
   "source": [
    "l = [i**2 for i in range(1,31)]\n",
    "print(l)"
   ]
  },
  {
   "cell_type": "markdown",
   "id": "2938f489-d8e7-4789-96e2-f68576a7a1f4",
   "metadata": {},
   "source": [
    "### Create a list comprehension to extract the even numbers from a given list."
   ]
  },
  {
   "cell_type": "code",
   "execution_count": 3,
   "id": "e3be0d90-edb5-4fac-9e49-fb5f13b1006b",
   "metadata": {},
   "outputs": [
    {
     "name": "stdout",
     "output_type": "stream",
     "text": [
      "[2, 4, 6, 8, 10, 12, 14, 16, 18, 20]\n"
     ]
    }
   ],
   "source": [
    "l = [1,2,3,4,5,6,7,8,9,10,11,12,13,14,15,16,17,18,19,20]\n",
    "l2 = [i for i in l if i%2==0]\n",
    "print(l2)"
   ]
  },
  {
   "cell_type": "markdown",
   "id": "cd1fa01a-fd43-43d2-904c-d00b8573a7bf",
   "metadata": {},
   "source": [
    "### Write a list comprehension to convert a list of strings to uppercase."
   ]
  },
  {
   "cell_type": "code",
   "execution_count": 4,
   "id": "ceeb0966-6b4d-475e-8ce1-c2ee7788ad2d",
   "metadata": {},
   "outputs": [
    {
     "name": "stdout",
     "output_type": "stream",
     "text": [
      "['APPLE', 'BANANA', 'ORANGE', 'GRAPE', 'KIWI']\n"
     ]
    }
   ],
   "source": [
    "strings = [\"apple\", \"banana\", \"orange\", \"grape\", \"kiwi\"]\n",
    "s = [i.upper() for i in strings]\n",
    "print(s)"
   ]
  },
  {
   "cell_type": "markdown",
   "id": "9d40b35a-b54e-4a61-b08f-3f26f25132dd",
   "metadata": {},
   "source": [
    "### Use list comprehension to generate a list of tuples containing the number and its cube for numbers from 1 to 5."
   ]
  },
  {
   "cell_type": "code",
   "execution_count": 5,
   "id": "73e12b72-c3be-48e0-9e78-675920171d54",
   "metadata": {},
   "outputs": [
    {
     "name": "stdout",
     "output_type": "stream",
     "text": [
      "[(1, 1), (2, 8), (3, 27), (4, 64), (5, 125)]\n"
     ]
    }
   ],
   "source": [
    "l = [(x,x**3) for x in range(1,6)]\n",
    "print(l)"
   ]
  },
  {
   "cell_type": "markdown",
   "id": "a131c0df-c992-456a-8617-39ebdeeca811",
   "metadata": {},
   "source": [
    "### Given a list of words, create a list comprehension to filter out words that have less than 5 characters."
   ]
  },
  {
   "cell_type": "code",
   "execution_count": 6,
   "id": "7e77d213-5c17-443d-b628-51e0366909d1",
   "metadata": {},
   "outputs": [
    {
     "name": "stdout",
     "output_type": "stream",
     "text": [
      "['cat', 'kiwi', 'dog', 'fox', 'wolf', 'lion']\n"
     ]
    }
   ],
   "source": [
    "words = [\"cat\", \"elephant\", \"banana\", \"apple\", \"orange\", \"grape\", \"pineapple\", \"strawberry\", \"watermelon\", \"kiwi\", \n",
    "         \"dog\", \"fox\", \"wolf\", \"lion\", \"tiger\", \"cheetah\", \"leopard\", \"zebra\", \"giraffe\", \"rhinoceros\"]\n",
    "\n",
    "l = [i for i in words if len(i)<5]\n",
    "print(l)\n"
   ]
  },
  {
   "cell_type": "markdown",
   "id": "078c6fab-96e2-42fb-a81d-a09b41802a5c",
   "metadata": {},
   "source": [
    "### Write a list comprehension to extract the vowels from a given string"
   ]
  },
  {
   "cell_type": "code",
   "execution_count": 14,
   "id": "168d8c69-5226-43fd-abe5-2bb9081a15fa",
   "metadata": {},
   "outputs": [
    {
     "name": "stdout",
     "output_type": "stream",
     "text": [
      "['e', 'u', 'i', 'o', 'o', 'u', 'o', 'e', 'e', 'a', 'o']\n"
     ]
    }
   ],
   "source": [
    "string = \"The quick brown fox jumps over the lazy dog.\"\n",
    "l = [i for i in string if i in 'aeiouAEIOU']\n",
    "print(l)\n"
   ]
  },
  {
   "cell_type": "markdown",
   "id": "d35c7f65-490a-4bf2-a30b-1065d45a138e",
   "metadata": {},
   "source": [
    "### Use list comprehension to delete stopwords from the following sentence?"
   ]
  },
  {
   "cell_type": "code",
   "execution_count": 13,
   "id": "87649009-860f-4bb6-91ed-ac6c3dc864a7",
   "metadata": {},
   "outputs": [
    {
     "name": "stdout",
     "output_type": "stream",
     "text": [
      "['quick', 'brown', 'fox', 'jumps', 'over', 'lazy', 'dog.']\n"
     ]
    }
   ],
   "source": [
    "string = \"the quick brown fox jumps over the lazy dog.\"\n",
    "stopwords = [\"the\", \"and\", \"of\", \"to\", \"in\", \"a\", \"is\", \"that\", \"it\", \"on\"]\n",
    "l2 = [i for i in string.split() if i not in stopwords]\n",
    "print(l2)"
   ]
  },
  {
   "cell_type": "markdown",
   "id": "faa1357a-3393-47d9-91de-6a51208a70bd",
   "metadata": {},
   "source": [
    "### Create a list comprehension to flatten a list of lists into a single list."
   ]
  },
  {
   "cell_type": "code",
   "execution_count": 17,
   "id": "be359659-13cb-4429-bf69-d35ae79b05f8",
   "metadata": {},
   "outputs": [
    {
     "name": "stdout",
     "output_type": "stream",
     "text": [
      "[1, 2, 3, 4, 5, 6, 7, 8, 9]\n"
     ]
    }
   ],
   "source": [
    "list_of_lists = [[1, 2, 3], [4, 5, 6], [7, 8, 9]]\n",
    "l = [j for i in list_of_lists for j in i]\n",
    "print(l)"
   ]
  },
  {
   "cell_type": "markdown",
   "id": "db86b107-7b06-4a72-910a-92ccfa0eabcc",
   "metadata": {},
   "source": [
    "### Write a list comprehension to find the common elements between two lists"
   ]
  },
  {
   "cell_type": "code",
   "execution_count": 19,
   "id": "b11bbbad-0d4d-4cbb-a24b-37e16ffd8891",
   "metadata": {},
   "outputs": [
    {
     "name": "stdout",
     "output_type": "stream",
     "text": [
      "[4, 5]\n"
     ]
    }
   ],
   "source": [
    "list1 = [1, 2, 3, 4, 5]\n",
    "list2 = [4, 5, 6, 7, 8]\n",
    "l = [i for i in list1 for j in list2 if i==j]\n",
    "print(l)"
   ]
  },
  {
   "cell_type": "markdown",
   "id": "3bf120f8-2d1e-40d4-982b-e7241b22c2e4",
   "metadata": {},
   "source": [
    "### Given a list of integers, create a list comprehension to calculate the square root of each integer that is greater than 10."
   ]
  },
  {
   "cell_type": "code",
   "execution_count": 4,
   "id": "923ba54d-5daf-4fdd-939e-4f9dd1ca60c7",
   "metadata": {},
   "outputs": [
    {
     "name": "stdout",
     "output_type": "stream",
     "text": [
      "[22.891046284519195, 9.327379053088816, 6.557438524302, 7.280109889280518, 8.306623862918075, 22.847319317591726, 17.549928774784245, 31.559467676119, 17.320508075688775, 17.05872210923198]\n"
     ]
    }
   ],
   "source": [
    "integers = [9, 524, 87, 43, 53, 69, 522, 308, 996, 300, 291]\n",
    "\n",
    "l = [i**(1/2) for i in integers if i >10]\n",
    "print(l)"
   ]
  },
  {
   "cell_type": "markdown",
   "id": "8ce1f0c8-cfb6-4826-8c43-b0a8133b4612",
   "metadata": {},
   "source": [
    "### Use list comprehension to remove duplicates from a list."
   ]
  },
  {
   "cell_type": "code",
   "execution_count": 6,
   "id": "94b16434-efc8-4566-83d1-391a2748467d",
   "metadata": {},
   "outputs": [
    {
     "name": "stdout",
     "output_type": "stream",
     "text": [
      "[3, 5, 2, 7, 8, 9, 6]\n"
     ]
    }
   ],
   "source": [
    "duplicates_list = [3, 5, 2, 7, 3, 8, 2, 5, 9, 3, 6, 7]\n",
    "\n",
    "l = []\n",
    "[l.append(i) for i in duplicates_list if i not in l]\n",
    "print(l)"
   ]
  },
  {
   "cell_type": "markdown",
   "id": "60d33c3a-bc63-4a83-a204-9957ed528b1c",
   "metadata": {},
   "source": [
    "### nested list comprehension"
   ]
  },
  {
   "cell_type": "code",
   "execution_count": 16,
   "id": "8c14d435-b1a7-421c-bd3a-8a05e426d377",
   "metadata": {},
   "outputs": [
    {
     "name": "stdout",
     "output_type": "stream",
     "text": [
      "[[2, 4, 6, 8, 10], [3, 6, 9, 12, 15], [4, 8, 12, 16, 20]]\n"
     ]
    }
   ],
   "source": [
    "l = [[m*n for m in range(1,6)] for n in range(2,5)]\n",
    "print(l)"
   ]
  },
  {
   "cell_type": "code",
   "execution_count": null,
   "id": "3fab2bf5-6625-4407-be60-814721601a06",
   "metadata": {},
   "outputs": [],
   "source": []
  }
 ],
 "metadata": {
  "kernelspec": {
   "display_name": "Python 3 (ipykernel)",
   "language": "python",
   "name": "python3"
  },
  "language_info": {
   "codemirror_mode": {
    "name": "ipython",
    "version": 3
   },
   "file_extension": ".py",
   "mimetype": "text/x-python",
   "name": "python",
   "nbconvert_exporter": "python",
   "pygments_lexer": "ipython3",
   "version": "3.11.7"
  },
  "widgets": {
   "application/vnd.jupyter.widget-state+json": {
    "state": {},
    "version_major": 2,
    "version_minor": 0
   }
  }
 },
 "nbformat": 4,
 "nbformat_minor": 5
}
