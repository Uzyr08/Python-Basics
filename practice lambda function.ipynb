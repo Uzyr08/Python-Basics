{
 "cells": [
  {
   "cell_type": "markdown",
   "id": "46907406-f6d8-4eef-be48-2bfce0ee0158",
   "metadata": {},
   "source": [
    "#### Write a lambda function to square a number."
   ]
  },
  {
   "cell_type": "code",
   "execution_count": 1,
   "id": "e9b930b6-6684-4a28-b58c-6c7a795bd338",
   "metadata": {},
   "outputs": [
    {
     "data": {
      "text/plain": [
       "4"
      ]
     },
     "execution_count": 1,
     "metadata": {},
     "output_type": "execute_result"
    }
   ],
   "source": [
    "x = lambda a: a**2\n",
    "x(2)"
   ]
  },
  {
   "cell_type": "markdown",
   "id": "eebfa408-4ac7-4c1e-81ab-9e8e6c446d38",
   "metadata": {},
   "source": [
    "#### Create a lambda function to check if a given number is divisible by 3."
   ]
  },
  {
   "cell_type": "code",
   "execution_count": 8,
   "id": "849fa477-4578-4dda-9d3d-8b6f0a985301",
   "metadata": {},
   "outputs": [
    {
     "data": {
      "text/plain": [
       "True"
      ]
     },
     "execution_count": 8,
     "metadata": {},
     "output_type": "execute_result"
    }
   ],
   "source": [
    "x = lambda a: True if a%3==0 else False\n",
    "x(27)"
   ]
  },
  {
   "cell_type": "markdown",
   "id": "4ceeedc9-a483-4f25-bc48-fa1d56b3eb65",
   "metadata": {},
   "source": [
    "#### Use a lambda function to convert a Celsius temperature to Fahrenheit."
   ]
  },
  {
   "cell_type": "code",
   "execution_count": 38,
   "id": "67e7baf6-0b60-4aaf-906d-e8a8990a7a9f",
   "metadata": {},
   "outputs": [
    {
     "data": {
      "text/plain": [
       "98.6"
      ]
     },
     "execution_count": 38,
     "metadata": {},
     "output_type": "execute_result"
    }
   ],
   "source": [
    "x = lambda a: (a*9/5)+32\n",
    "x(37)"
   ]
  },
  {
   "cell_type": "markdown",
   "id": "d464c45a-006e-4c5a-9ac7-bd204cc4f426",
   "metadata": {},
   "source": [
    "#### Write a lambda function to extract the last character of a string."
   ]
  },
  {
   "cell_type": "code",
   "execution_count": 10,
   "id": "46a7cdfd-dec8-4f9a-bf0e-d156fe706cd3",
   "metadata": {},
   "outputs": [
    {
     "name": "stdin",
     "output_type": "stream",
     "text": [
      "enter a string\n",
      " hello\n"
     ]
    },
    {
     "data": {
      "text/plain": [
       "'o'"
      ]
     },
     "execution_count": 10,
     "metadata": {},
     "output_type": "execute_result"
    }
   ],
   "source": [
    "x = lambda a: a[-1]\n",
    "str = input('enter a string\\n')\n",
    "x(str)"
   ]
  },
  {
   "cell_type": "markdown",
   "id": "b43adc47-578f-4578-afc2-5b887c4e5711",
   "metadata": {},
   "source": [
    "#### Create a lambda function to sort a list of tuples based on the second element of each tuple."
   ]
  },
  {
   "cell_type": "code",
   "execution_count": 10,
   "id": "a8726aa1-0d8d-463d-8501-7c2612c387b0",
   "metadata": {},
   "outputs": [
    {
     "name": "stdout",
     "output_type": "stream",
     "text": [
      "[('apple', 3), ('banana', 6), ('grape', 8), ('kiwi', 2), ('orange', 4)]\n"
     ]
    }
   ],
   "source": [
    "list_of_tuples = [\n",
    "    (\"apple\", 3),\n",
    "    (\"banana\", 6),\n",
    "    (\"orange\", 4),\n",
    "    (\"grape\", 8),\n",
    "    (\"kiwi\", 2)\n",
    "]\n",
    "x = lambda a: sorted(a)\n",
    "print(x(list_of_tuples))\n"
   ]
  },
  {
   "cell_type": "markdown",
   "id": "7d94c3f9-1997-464d-9c8f-4a6caab90634",
   "metadata": {},
   "source": [
    "#### Use a lambda function to filter out strings from a list of mixed data types."
   ]
  },
  {
   "cell_type": "code",
   "execution_count": 22,
   "id": "bb3ea6ea-99e1-4ab4-88d5-4eca15103712",
   "metadata": {},
   "outputs": [
    {
     "name": "stdout",
     "output_type": "stream",
     "text": [
      "['ana', 'haha', 'haiah', 'jaua']\n"
     ]
    }
   ],
   "source": [
    "l = ['ana',41,'haha',[1,2,3],(7,3,1,9),'haiah',8,'jaua']\n",
    "x = lambda a: [i for i in a if type(i) is str ]\n",
    "print(x(l))"
   ]
  },
  {
   "cell_type": "markdown",
   "id": "da58f12e-ab43-477b-8c3e-deacbcd77a5c",
   "metadata": {},
   "source": [
    "#### Write a lambda function to calculate the area of a triangle given its base and height."
   ]
  },
  {
   "cell_type": "code",
   "execution_count": 28,
   "id": "d0c94f1b-84b4-4b53-82d6-93e021f5a5ac",
   "metadata": {},
   "outputs": [
    {
     "name": "stdout",
     "output_type": "stream",
     "text": [
      "enter the base and height of triangle respectively\n"
     ]
    },
    {
     "name": "stdin",
     "output_type": "stream",
     "text": [
      " 3\n",
      " 8\n"
     ]
    },
    {
     "name": "stdout",
     "output_type": "stream",
     "text": [
      "area of triangle is 12.0\n"
     ]
    }
   ],
   "source": [
    "x = lambda a,b : (a*b)/2\n",
    "print('enter the base and height of triangle respectively')\n",
    "a = int(input())\n",
    "b = int(input())\n",
    "area = x(a,b)\n",
    "print(f'area of triangle is {area}')"
   ]
  },
  {
   "cell_type": "markdown",
   "id": "ca97c5c7-11a9-44d0-804d-7a77c41115ed",
   "metadata": {},
   "source": [
    "#### reate a lambda function to check if a given string is a palindrome"
   ]
  },
  {
   "cell_type": "code",
   "execution_count": 32,
   "id": "740fc5c4-17fa-4641-a369-6beb86fd58aa",
   "metadata": {},
   "outputs": [
    {
     "name": "stdin",
     "output_type": "stream",
     "text": [
      "enter a string\n",
      " talat\n"
     ]
    },
    {
     "name": "stdout",
     "output_type": "stream",
     "text": [
      "True\n"
     ]
    }
   ],
   "source": [
    "x = lambda a : True if a[::-1]==a else False\n",
    "str = input('enter a string\\n')\n",
    "print(x(str))"
   ]
  },
  {
   "cell_type": "markdown",
   "id": "a06c1e46-1588-4eed-bdb9-57921a39e373",
   "metadata": {},
   "source": [
    "#### Use a lambda function to remove duplicates from a list."
   ]
  },
  {
   "cell_type": "code",
   "execution_count": 35,
   "id": "233db751-324d-4258-8199-cca17b05a08c",
   "metadata": {},
   "outputs": [
    {
     "ename": "SyntaxError",
     "evalue": "invalid syntax (2026761289.py, line 3)",
     "output_type": "error",
     "traceback": [
      "\u001b[1;36m  Cell \u001b[1;32mIn[35], line 3\u001b[1;36m\u001b[0m\n\u001b[1;33m    x = lambda a: s [s.append(i) for i in a if i not in s]\u001b[0m\n\u001b[1;37m                                 ^\u001b[0m\n\u001b[1;31mSyntaxError\u001b[0m\u001b[1;31m:\u001b[0m invalid syntax\n"
     ]
    }
   ],
   "source": [
    "my_list = [1, 2, 3, 4, 2, 5, 3, 6, 4, 7, 8, 8]\n",
    "s=[]\n",
    "x = lambda a: s [s.append(i) for i in a if i not in s]\n",
    "print(x(my_list))"
   ]
  },
  {
   "cell_type": "markdown",
   "id": "b010c882-4622-48c9-815f-b27a409f1e73",
   "metadata": {},
   "source": [
    "#### Write a lambda function to calculate the average of a list of numbers."
   ]
  },
  {
   "cell_type": "code",
   "execution_count": 36,
   "id": "f93a123d-cb65-4c09-be96-057b93138b9a",
   "metadata": {},
   "outputs": [
    {
     "name": "stdout",
     "output_type": "stream",
     "text": [
      "5.0\n"
     ]
    }
   ],
   "source": [
    "l =[2,7,9,1,6,7,3]\n",
    "\n",
    "x = lambda a: sum(a)/len(a)\n",
    "\n",
    "print(x(l))"
   ]
  },
  {
   "cell_type": "markdown",
   "id": "a599430e-d92b-4ecd-8e7b-748bcdcc72fc",
   "metadata": {},
   "source": [
    "### Built-in Higher Order Functions"
   ]
  },
  {
   "cell_type": "markdown",
   "id": "1aaf7d82-bbba-4f5c-a8d3-4232d49f112e",
   "metadata": {},
   "source": [
    "####  using map check whether each item in the list is odd or even"
   ]
  },
  {
   "cell_type": "code",
   "execution_count": 1,
   "id": "1b2be69b-fbf0-4c47-9a4a-cfb73611b3c9",
   "metadata": {},
   "outputs": [
    {
     "data": {
      "text/plain": [
       "[False, True, False, True, False, True, False, True, False]"
      ]
     },
     "execution_count": 1,
     "metadata": {},
     "output_type": "execute_result"
    }
   ],
   "source": [
    "l = [1,2,3,4,5,6,7,8,9]\n",
    "list(map(lambda x: x%2==0,l))"
   ]
  },
  {
   "cell_type": "markdown",
   "id": "c0be1f58-ae6c-43b5-873e-d628450f87a2",
   "metadata": {},
   "source": [
    "#### use the map function along with a lambda function to extract the names of all the students from the students list.\n"
   ]
  },
  {
   "cell_type": "code",
   "execution_count": 4,
   "id": "d9a7594b-346c-44ff-ba4f-1fd73290f9c7",
   "metadata": {},
   "outputs": [
    {
     "data": {
      "text/plain": [
       "['Alice', 'Bob', 'Charlie']"
      ]
     },
     "execution_count": 4,
     "metadata": {},
     "output_type": "execute_result"
    }
   ],
   "source": [
    "students = [\n",
    "    {\"name\": \"Alice\", \"father\": \"John\", \"address\": \"123 Main St\"},\n",
    "    {\"name\": \"Bob\", \"father\": \"Michael\", \"address\": \"456 Elm St\"},\n",
    "    {\"name\": \"Charlie\", \"father\": \"David\", \"address\": \"789 Oak St\"}\n",
    "]\n",
    "list(map(lambda x : x['name'],students))"
   ]
  },
  {
   "cell_type": "code",
   "execution_count": null,
   "id": "3a79c265-20a6-4abc-948b-9f02741ce00d",
   "metadata": {},
   "outputs": [],
   "source": []
  }
 ],
 "metadata": {
  "kernelspec": {
   "display_name": "Python 3 (ipykernel)",
   "language": "python",
   "name": "python3"
  },
  "language_info": {
   "codemirror_mode": {
    "name": "ipython",
    "version": 3
   },
   "file_extension": ".py",
   "mimetype": "text/x-python",
   "name": "python",
   "nbconvert_exporter": "python",
   "pygments_lexer": "ipython3",
   "version": "3.11.7"
  },
  "widgets": {
   "application/vnd.jupyter.widget-state+json": {
    "state": {},
    "version_major": 2,
    "version_minor": 0
   }
  }
 },
 "nbformat": 4,
 "nbformat_minor": 5
}
