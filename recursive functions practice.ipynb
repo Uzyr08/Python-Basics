{
 "cells": [
  {
   "cell_type": "code",
   "execution_count": 6,
   "id": "62e2f683-87d8-4a85-ba09-8856a347d508",
   "metadata": {},
   "outputs": [
    {
     "name": "stdout",
     "output_type": "stream",
     "text": [
      "12\n",
      "the time taken is  0.0\n"
     ]
    }
   ],
   "source": [
    "#multiply function without using multiply operator \n",
    "\n",
    "# using iterative procedure \n",
    "import time\n",
    "def mult(a,b):\n",
    "    result = 0\n",
    "    for i in range(b):\n",
    "        result+=a\n",
    "    return result\n",
    "\n",
    "start = time.time()\n",
    "print(mult(4,3))\n",
    "end = time.time()\n",
    "tim = end-start\n",
    "print('the time taken is ',tim)"
   ]
  },
  {
   "cell_type": "code",
   "execution_count": 7,
   "id": "d0ae23f3-f1f0-4dd8-8ae6-7d0050e26b03",
   "metadata": {},
   "outputs": [
    {
     "name": "stdout",
     "output_type": "stream",
     "text": [
      "12\n",
      "the time taken is  0.0\n"
     ]
    }
   ],
   "source": [
    "# using recursive procedure\n",
    "import time\n",
    "def mul(a,b):\n",
    "    if b==1:\n",
    "        return a #base condition\n",
    "    else:\n",
    "        return a+mul(a,b-1)\n",
    "\n",
    "start = time.time()\n",
    "print(mul(4,3))\n",
    "end = time.time()\n",
    "tim = end-start\n",
    "print('the time taken is ',tim)"
   ]
  },
  {
   "cell_type": "code",
   "execution_count": 8,
   "id": "d4534077-aa31-429d-a5b3-bd41350e7c7b",
   "metadata": {},
   "outputs": [
    {
     "name": "stdout",
     "output_type": "stream",
     "text": [
      "1713866988.2984502\n"
     ]
    }
   ],
   "source": [
    "print(time.time())"
   ]
  },
  {
   "cell_type": "markdown",
   "id": "f11dda88-6a4b-4535-ac7a-8027758a741d",
   "metadata": {},
   "source": [
    "maximum depth of recursion is 1000<br>After this the program is terminated automatically"
   ]
  },
  {
   "cell_type": "code",
   "execution_count": 12,
   "id": "9f41dc8e-d22c-4424-9e3f-45ea9d107d30",
   "metadata": {},
   "outputs": [
    {
     "name": "stdout",
     "output_type": "stream",
     "text": [
      "the string is not a palindrome\n"
     ]
    }
   ],
   "source": [
    "#checking palindrome string\n",
    "\n",
    "def palin(a):\n",
    "    if len(a)<=1:\n",
    "        print('the string is palindrome')\n",
    "    if a[1]==a[-1]:\n",
    "        palin(a[1:-1])\n",
    "    else:\n",
    "        print('the string is not a palindrome')\n",
    "\n",
    "palin('madam')"
   ]
  },
  {
   "cell_type": "markdown",
   "id": "6d09f33e-7cbd-4b7d-88fe-ac8a0e0e13a6",
   "metadata": {},
   "source": [
    "#### Write a function to calculate the factorial of a non-negative integer using recursion."
   ]
  },
  {
   "cell_type": "code",
   "execution_count": 3,
   "id": "b1da2cfc-6e36-4eec-85a6-43afc08cf882",
   "metadata": {},
   "outputs": [
    {
     "name": "stdout",
     "output_type": "stream",
     "text": [
      "720\n"
     ]
    }
   ],
   "source": [
    "def fact(n):\n",
    "    if n==1:\n",
    "        return 1\n",
    "    else:\n",
    "        return (n* fact(n-1))\n",
    "\n",
    "print(fact(6))"
   ]
  },
  {
   "cell_type": "markdown",
   "id": "fe65f2e0-e8e0-4455-8b55-62637aa30e5e",
   "metadata": {},
   "source": [
    "#### Implement a recursive function to compute the nth Fibonacci number."
   ]
  },
  {
   "cell_type": "code",
   "execution_count": 22,
   "id": "3daf1a6e-b0b0-48de-8e7a-d62405b0fddf",
   "metadata": {},
   "outputs": [
    {
     "name": "stdout",
     "output_type": "stream",
     "text": [
      "102334155\n",
      "23.25870633125305\n"
     ]
    }
   ],
   "source": [
    "import time as t\n",
    "def fib(n):\n",
    "    if n==1 or n==0:\n",
    "        return n\n",
    "    else:\n",
    "        return fab(n-1)+fab(n-2)\n",
    "start = t.time()\n",
    "print(fib(40))\n",
    "print(t.time()-start)"
   ]
  },
  {
   "cell_type": "code",
   "execution_count": 24,
   "id": "1f38df14-22d3-48b2-8b6a-d9a3239dc94e",
   "metadata": {},
   "outputs": [
    {
     "name": "stdout",
     "output_type": "stream",
     "text": [
      "102334155\n",
      "0.0\n"
     ]
    }
   ],
   "source": [
    "def memo(m, d):\n",
    "    if m in d:        \n",
    "        return d[m]\n",
    "    else:\n",
    "        d[m]=memo(m-1, d) + memo(m-2,d)\n",
    "        return d[m]                   \n",
    "\n",
    "d={0:0, 1:1}\n",
    "start = t.time()\n",
    "print(memo(40,d))\n",
    "print(t.time()-start)"
   ]
  },
  {
   "cell_type": "markdown",
   "id": "2b32f6f3-971c-4540-9b2d-7edcc2433be5",
   "metadata": {},
   "source": [
    "#### Create a recursive function to find the sum of digits of a positive integer."
   ]
  },
  {
   "cell_type": "code",
   "execution_count": 28,
   "id": "a42cbcca-3a32-462b-b462-0cfc2e5361c1",
   "metadata": {},
   "outputs": [
    {
     "name": "stdout",
     "output_type": "stream",
     "text": [
      "10\n"
     ]
    }
   ],
   "source": [
    "def sum(n):\n",
    "    if len(n)==1:\n",
    "        return int(n)\n",
    "    else:\n",
    "        return int(n[0])+sum(n[1:])\n",
    "\n",
    "print(sum('1234'))"
   ]
  },
  {
   "cell_type": "markdown",
   "id": "8c710874-0ba1-478c-8b2d-f58bac16ec9f",
   "metadata": {},
   "source": [
    "#### Implement a recursive function to reverse a string"
   ]
  },
  {
   "cell_type": "code",
   "execution_count": 1,
   "id": "12a2eee7-9c3b-40c1-a8e5-e35ef54f36aa",
   "metadata": {},
   "outputs": [
    {
     "name": "stdout",
     "output_type": "stream",
     "text": [
      "dcba\n"
     ]
    }
   ],
   "source": [
    "def reverse(string):\n",
    "    if len(string)==1:\n",
    "        return string\n",
    "    else:\n",
    "        return reverse(string[1:] )+string[0]\n",
    "print(reverse('abcd'))"
   ]
  },
  {
   "cell_type": "code",
   "execution_count": null,
   "id": "a269bf72-fc3a-448f-9084-2c1783657cbf",
   "metadata": {},
   "outputs": [],
   "source": []
  }
 ],
 "metadata": {
  "kernelspec": {
   "display_name": "Python 3 (ipykernel)",
   "language": "python",
   "name": "python3"
  },
  "language_info": {
   "codemirror_mode": {
    "name": "ipython",
    "version": 3
   },
   "file_extension": ".py",
   "mimetype": "text/x-python",
   "name": "python",
   "nbconvert_exporter": "python",
   "pygments_lexer": "ipython3",
   "version": "3.11.7"
  },
  "widgets": {
   "application/vnd.jupyter.widget-state+json": {
    "state": {},
    "version_major": 2,
    "version_minor": 0
   }
  }
 },
 "nbformat": 4,
 "nbformat_minor": 5
}
