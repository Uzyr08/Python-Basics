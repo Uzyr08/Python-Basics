{
 "cells": [
  {
   "cell_type": "markdown",
   "id": "bfbc45e5-f80a-4023-a53f-66e94e590fa7",
   "metadata": {},
   "source": [
    "## Tasks"
   ]
  },
  {
   "cell_type": "markdown",
   "id": "1878a976-4c67-4eba-a318-9c1cb3ff306f",
   "metadata": {},
   "source": [
    "num_list=[1,2,3,4]   \n",
    "   use the map function to convert each element in num_list to a string and create a new list"
   ]
  },
  {
   "cell_type": "code",
   "execution_count": 12,
   "id": "112c28fe-70ab-4c01-ab76-97a8f7bf2ad2",
   "metadata": {},
   "outputs": [],
   "source": [
    "num_list=[1,2,3,4]\n",
    "new_list=list(map(lambda x:str(x) ,num_list))"
   ]
  },
  {
   "cell_type": "code",
   "execution_count": 13,
   "id": "391cf6dc-76b7-4721-97fb-995d570ce755",
   "metadata": {},
   "outputs": [
    {
     "data": {
      "text/plain": [
       "['1', '2', '3', '4']"
      ]
     },
     "execution_count": 13,
     "metadata": {},
     "output_type": "execute_result"
    }
   ],
   "source": [
    "new_list"
   ]
  },
  {
   "cell_type": "markdown",
   "id": "dc429e2d-5d5f-4e64-8dcf-e8a88befea0f",
   "metadata": {},
   "source": [
    "num_tuple=(0,1,2,3)  \n",
    "  use map function to convert each element in  num_tuple to a string and create a new tuple"
   ]
  },
  {
   "cell_type": "code",
   "execution_count": 14,
   "id": "b2d7a4b9-d487-4989-94d8-08f0eb0fb7db",
   "metadata": {},
   "outputs": [
    {
     "data": {
      "text/plain": [
       "('0', '1', '2', '3')"
      ]
     },
     "execution_count": 14,
     "metadata": {},
     "output_type": "execute_result"
    }
   ],
   "source": [
    "num_tuple=(0,1,2,3)\n",
    "new_tuple=tuple(map(lambda x:str(x),num_tuple))\n",
    "new_tuple"
   ]
  },
  {
   "cell_type": "markdown",
   "id": "ad0b856f-655c-4675-8433-ea1c412f6e9a",
   "metadata": {},
   "source": [
    "Student_data=[('fahad','15/05/2002','35kg'),('imad','17/05/2002','37kg'),('meraj','16/02/1996','39kg'),('hamad','25/09/1998','35kg')]  \n",
    "  use the map function and lambda expression to extract students names date of birth and weight  \n",
    "  and create  new lists 'students_data_name','students_data_dob'and 'students_data_weight'"
   ]
  },
  {
   "cell_type": "code",
   "execution_count": 20,
   "id": "529f33f6-2a95-490c-b7f8-22b9187e000c",
   "metadata": {},
   "outputs": [
    {
     "data": {
      "text/plain": [
       "['fahad', 'imad', 'meraj', 'hamad']"
      ]
     },
     "execution_count": 20,
     "metadata": {},
     "output_type": "execute_result"
    }
   ],
   "source": [
    "Student_data=[('fahad','15/05/2002','35kg'),('imad','17/05/2002','37kg'),('meraj','16/02/1996','39kg'),('hamad','25/09/1998','35kg')]\n",
    "students_data_names=list(map(lambda name: name[0] ,Student_data))\n",
    "students_data_names"
   ]
  },
  {
   "cell_type": "code",
   "execution_count": 26,
   "id": "922325df-2f07-47e7-b6b8-35776554282e",
   "metadata": {},
   "outputs": [
    {
     "data": {
      "text/plain": [
       "['15/05/2002', '17/05/2002', '16/02/1996', '25/09/1998']"
      ]
     },
     "execution_count": 26,
     "metadata": {},
     "output_type": "execute_result"
    }
   ],
   "source": [
    "students_data_dob=list(map(lambda dob:dob[1],Student_data))\n",
    "students_data_dob"
   ]
  },
  {
   "cell_type": "code",
   "execution_count": 35,
   "id": "6a742fae-ba02-410d-a979-d08e0b5cbd68",
   "metadata": {},
   "outputs": [
    {
     "data": {
      "text/plain": [
       "['35kg', '37kg', '39kg', '35kg']"
      ]
     },
     "execution_count": 35,
     "metadata": {},
     "output_type": "execute_result"
    }
   ],
   "source": [
    "students_data_weight=list(map(lambda x:x[2],Student_data))\n",
    "students_data_weight"
   ]
  },
  {
   "cell_type": "markdown",
   "id": "8c4de58a-e38c-4be3-8380-ef085d3baa19",
   "metadata": {},
   "source": [
    "use map function to apply case_change function to a list of strings and convert the list of strings into capital case"
   ]
  },
  {
   "cell_type": "code",
   "execution_count": 9,
   "id": "9f52c921-b1f4-46e5-8971-ae1bfc4f46ea",
   "metadata": {},
   "outputs": [
    {
     "name": "stdout",
     "output_type": "stream",
     "text": [
      "['UZAIR', 'FAZAL', 'USAMA', 'MAAZ', 'SAMEER', 'MUDASIR', 'SHADMMAN', 'LUQMAN']\n"
     ]
    }
   ],
   "source": [
    "def caseChange(l):\n",
    "    return l.upper()\n",
    "\n",
    "lst = 'uzair fazal usama maaz sameer mudasir shadmman luqman'.split()\n",
    "lst2 = list(map(caseChange,lst))\n",
    "print(lst2)"
   ]
  },
  {
   "cell_type": "code",
   "execution_count": 7,
   "id": "da41073f-007f-4ab3-9c9c-4abf75082e15",
   "metadata": {},
   "outputs": [
    {
     "data": {
      "text/plain": [
       "['FAZAL', 'UZAIR', 'USAMA', 'KHAN G', 'KHAN LALA', 'MASHAR']"
      ]
     },
     "execution_count": 7,
     "metadata": {},
     "output_type": "execute_result"
    }
   ],
   "source": [
    "lst=['fazal','uzair','usama','khan g','khan lala','mashar']\n",
    "case_change=list(map(lambda x: x.upper(),lst))\n",
    "case_change"
   ]
  },
  {
   "cell_type": "markdown",
   "id": "37756a09-d184-49a0-b5c4-5e059468f2da",
   "metadata": {},
   "source": [
    "write a python program to create a list containing the power of said number in the bases raised to the corresponding number in the index using python  map.\n",
    "create two list named bases_num and index containing integer elements\n",
    "bases_num[10,20,30,40,50,60,70,80,90,100]\n",
    "index=[1,2,3,4,5,6,7,8,9,10]"
   ]
  },
  {
   "cell_type": "code",
   "execution_count": 2,
   "id": "b7ecb36f-bd19-4391-b23a-2bff17f98851",
   "metadata": {},
   "outputs": [
    {
     "data": {
      "text/plain": [
       "[10,\n",
       " 400,\n",
       " 27000,\n",
       " 2560000,\n",
       " 312500000,\n",
       " 46656000000,\n",
       " 8235430000000,\n",
       " 1677721600000000,\n",
       " 387420489000000000,\n",
       " 100000000000000000000]"
      ]
     },
     "execution_count": 2,
     "metadata": {},
     "output_type": "execute_result"
    }
   ],
   "source": [
    "bases_num=[10,20,30,40,50,60,70,80,90,100]\n",
    "index=[1,2,3,4,5,6,7,8,9,10]\n",
    "calc=list(map(lambda x,y:x**y,bases_num,index))\n",
    "calc"
   ]
  },
  {
   "cell_type": "code",
   "execution_count": 1,
   "id": "4c0ca789-144d-469c-815f-fd2aaa763649",
   "metadata": {},
   "outputs": [
    {
     "name": "stdout",
     "output_type": "stream",
     "text": [
      "first statement\n",
      "second statement\n",
      "third statement\n",
      "fourth statement\n",
      "fifth statement\n",
      "no more statements\n"
     ]
    }
   ],
   "source": [
    "def gen():\n",
    "    yield 'first statement'\n",
    "    yield 'second statement'\n",
    "    yield 'third statement'\n",
    "    yield 'fourth statement'\n",
    "    yield 'fifth statement'\n",
    "\n",
    "g = gen()\n",
    "while True:\n",
    "    try:\n",
    "        print(next(g))\n",
    "    except StopIteration:\n",
    "        print('no more statements')\n",
    "        break"
   ]
  },
  {
   "cell_type": "code",
   "execution_count": 8,
   "id": "c1ee486a-de65-4254-b2fb-d00d43792b0c",
   "metadata": {},
   "outputs": [],
   "source": [
    "def square(num):\n",
    "    for i in range(1,num+1):\n",
    "        yield i**2"
   ]
  },
  {
   "cell_type": "code",
   "execution_count": 9,
   "id": "31aec6d5-1bf7-431f-81bd-370266169961",
   "metadata": {},
   "outputs": [],
   "source": [
    "g = square(10)\n"
   ]
  },
  {
   "cell_type": "code",
   "execution_count": 10,
   "id": "093b8a58-0fdc-4ded-9946-a94094ece46e",
   "metadata": {},
   "outputs": [
    {
     "name": "stdout",
     "output_type": "stream",
     "text": [
      "1\n",
      "4\n",
      "9\n",
      "16\n",
      "25\n",
      "36\n",
      "49\n",
      "64\n",
      "81\n",
      "100\n",
      "generator is exhausted\n"
     ]
    }
   ],
   "source": [
    "while True:\n",
    "    try:\n",
    "        print(next(g))\n",
    "    except StopIteration:\n",
    "        print('generator is exhausted')\n",
    "        break"
   ]
  },
  {
   "cell_type": "code",
   "execution_count": null,
   "id": "9ee9e6a6-888f-4b6a-aafb-9e90a10c0dd5",
   "metadata": {},
   "outputs": [],
   "source": []
  }
 ],
 "metadata": {
  "kernelspec": {
   "display_name": "Python 3 (ipykernel)",
   "language": "python",
   "name": "python3"
  },
  "language_info": {
   "codemirror_mode": {
    "name": "ipython",
    "version": 3
   },
   "file_extension": ".py",
   "mimetype": "text/x-python",
   "name": "python",
   "nbconvert_exporter": "python",
   "pygments_lexer": "ipython3",
   "version": "3.11.7"
  },
  "widgets": {
   "application/vnd.jupyter.widget-state+json": {
    "state": {},
    "version_major": 2,
    "version_minor": 0
   }
  }
 },
 "nbformat": 4,
 "nbformat_minor": 5
}
