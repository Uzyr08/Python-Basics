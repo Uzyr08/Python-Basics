{
 "cells": [
  {
   "cell_type": "markdown",
   "id": "fb3f4901-5882-4987-a903-da5e7e32919c",
   "metadata": {},
   "source": [
    "#### Create a nested list comprehension to generate a list of all possible combinations of pairs of numbers from two lists."
   ]
  },
  {
   "cell_type": "code",
   "execution_count": 1,
   "id": "94793165-c161-406a-a665-7e3cadfbd800",
   "metadata": {},
   "outputs": [
    {
     "name": "stdout",
     "output_type": "stream",
     "text": [
      "[[(1, 6), (1, 7), (1, 8), (1, 9)], [(2, 6), (2, 7), (2, 8), (2, 9)], [(3, 6), (3, 7), (3, 8), (3, 9)], [(4, 6), (4, 7), (4, 8), (4, 9)], [(5, 6), (5, 7), (5, 8), (5, 9)]]\n"
     ]
    }
   ],
   "source": [
    "l1 = [1,2,3,4,5]\n",
    "l2 = [6,7,8,9]\n",
    "\n",
    "l3 = [[(i,j)for j in l2]for i in l1]\n",
    "print(l3)"
   ]
  },
  {
   "cell_type": "markdown",
   "id": "29f1b859-8214-45d1-a16a-68ac12880539",
   "metadata": {},
   "source": [
    "#### Generate a nested list comprehension to create a list of tuples where the first element is even and the second element is odd, from two given lists."
   ]
  },
  {
   "cell_type": "code",
   "execution_count": 2,
   "id": "39bf8e15-d903-48bf-a6c1-bca8291bd6ce",
   "metadata": {},
   "outputs": [
    {
     "name": "stdout",
     "output_type": "stream",
     "text": [
      "[[(2, 7), (2, 9)], [(4, 7), (4, 9)]]\n"
     ]
    }
   ],
   "source": [
    "l1 = [1,2,3,4,5]\n",
    "l2 = [6,7,8,9]\n",
    "\n",
    "l3 = [[(i,j)for j in l2 if j%2!=0]for i in l1 if i%2==0]\n",
    "\n",
    "print(l3)"
   ]
  },
  {
   "cell_type": "markdown",
   "id": "d1ae750a-1124-46da-b71a-17c2baee905b",
   "metadata": {},
   "source": [
    "#### Create a nested list comprehension to transpose a given matrix (list of lists)."
   ]
  },
  {
   "cell_type": "code",
   "execution_count": 10,
   "id": "79b81806-e298-45d8-b116-206e4e8ac284",
   "metadata": {},
   "outputs": [
    {
     "data": {
      "text/plain": [
       "[[1, 4, 7], [2, 5, 8], [3, 6, 9]]"
      ]
     },
     "execution_count": 10,
     "metadata": {},
     "output_type": "execute_result"
    }
   ],
   "source": [
    "matrix = [\n",
    "    [1, 2, 3],\n",
    "    [4, 5, 6],\n",
    "    [7, 8, 9]\n",
    "]\n",
    "\n",
    "l = [[row[col] for row in matrix] for col in range(len(matrix[0]))]\n",
    "l"
   ]
  },
  {
   "cell_type": "markdown",
   "id": "0247ca68-d68d-4c5c-bfdd-04101a1702ed",
   "metadata": {},
   "source": [
    "#### Use nested list comprehension to create a list of lists where each inner list contains only odd numbers from the corresponding inner list in a given matrix."
   ]
  },
  {
   "cell_type": "code",
   "execution_count": 12,
   "id": "c247861d-c9cb-42c0-95bc-2b930c9c8621",
   "metadata": {},
   "outputs": [
    {
     "name": "stdout",
     "output_type": "stream",
     "text": [
      "[[1, 3, 5], [7, 9], [11, 13, 15], [17, 19], [21, 23, 25]]\n"
     ]
    }
   ],
   "source": [
    "l1 = [[1,2,3,4,5],[6,7,8,9,10],[11,12,13,14,15],[16,17,18,19,20],[21,22,23,24,25]]\n",
    "\n",
    "l2 = [[j for j in i if j%2!=0] for i in l1]\n",
    "print(l2)"
   ]
  },
  {
   "cell_type": "markdown",
   "id": "65880595-d846-4d14-85e8-07f7d1b61d10",
   "metadata": {},
   "source": [
    "#### Generate a nested list comprehension to split a list of strings into a list of lists of characters."
   ]
  },
  {
   "cell_type": "code",
   "execution_count": 2,
   "id": "688c8c01-11d1-40d4-aae5-70fd6ed4ebd1",
   "metadata": {},
   "outputs": [
    {
     "name": "stdout",
     "output_type": "stream",
     "text": [
      "[['a', 'a', 'm'], ['s', 'e', 'b'], ['k', 'e', 'l', 'a'], ['m', 'a', 'a', 'l', 't', 'a'], ['a', 'm', 'r', 'o', 'o', 'd']]\n"
     ]
    }
   ],
   "source": [
    "listOfString = ['aam','seb','kela','maalta','amrood']\n",
    "\n",
    "l = [[j for j in i]for i in listOfString]\n",
    "print(l)"
   ]
  },
  {
   "cell_type": "markdown",
   "id": "4aef9dd6-d783-41d3-9397-21b95cf3a5fb",
   "metadata": {},
   "source": [
    "#### Implement a nested list comprehension to multiply two matrices (lists of lists)."
   ]
  },
  {
   "cell_type": "code",
   "execution_count": 3,
   "id": "926ba332-76ee-4d1c-93cc-ecf348703481",
   "metadata": {},
   "outputs": [
    {
     "data": {
      "text/plain": [
       "[[5, 6, 7, 8], [10, 12, 14, 16], [15, 18, 21, 24], [20, 24, 28, 32]]"
      ]
     },
     "execution_count": 3,
     "metadata": {},
     "output_type": "execute_result"
    }
   ],
   "source": [
    "l1 = [1,2,3,4]\n",
    "l2 = [5,6,7,8]\n",
    "\n",
    "l3 = [[i*j for j in l2]for i in l1]\n",
    "l3"
   ]
  },
  {
   "cell_type": "markdown",
   "id": "fe1ca955-a9fa-44e4-befc-26d681ee190a",
   "metadata": {},
   "source": [
    "#### Write a nested list comprehension to flatten a list of lists into a single list."
   ]
  },
  {
   "cell_type": "code",
   "execution_count": 6,
   "id": "6f4b83c0-055b-46b7-a10d-0c45f8d0f7a3",
   "metadata": {},
   "outputs": [
    {
     "name": "stdout",
     "output_type": "stream",
     "text": [
      "[5, 6, 7, 8, 10, 12, 14, 16, 15, 18, 21, 24, 20, 24, 28, 32]\n"
     ]
    }
   ],
   "source": [
    "listOfLists = [[5, 6, 7, 8], [10, 12, 14, 16], [15, 18, 21, 24], [20, 24, 28, 32]]\n",
    "\n",
    "#l = [[j for j in i]for i in listOfLists]\n",
    "l = [j for i in listOfLists for j in i ]\n",
    "\n",
    "print(l)"
   ]
  },
  {
   "cell_type": "markdown",
   "id": "b66db33c-0086-49d5-9f00-49f6ca1bcdf4",
   "metadata": {},
   "source": [
    "#### Create a nested list comprehension to generate a list of tuples where each tuple contains one element from each of two given lists."
   ]
  },
  {
   "cell_type": "code",
   "execution_count": 11,
   "id": "cf462f88-19a3-42d5-9968-6e9a8c945f11",
   "metadata": {},
   "outputs": [
    {
     "name": "stdout",
     "output_type": "stream",
     "text": [
      "[(1, 6), (1, 7), (1, 8), (1, 9), (1, 10), (2, 6), (2, 7), (2, 8), (2, 9), (2, 10), (3, 6), (3, 7), (3, 8), (3, 9), (3, 10), (4, 6), (4, 7), (4, 8), (4, 9), (4, 10), (5, 6), (5, 7), (5, 8), (5, 9), (5, 10)]\n"
     ]
    }
   ],
   "source": [
    "l1 = [1,2,3,4,5]\n",
    "l2= [6,7,8,9,10]\n",
    "\n",
    "l3 = [(i,j) for i in l1 for j in l2]\n",
    "print(l3)"
   ]
  },
  {
   "cell_type": "markdown",
   "id": "5db974a9-3ea9-4bf3-8a25-514b579f508b",
   "metadata": {},
   "source": [
    "#### Write a nested list comprehension to find the intersection of two lists."
   ]
  },
  {
   "cell_type": "code",
   "execution_count": 16,
   "id": "abcd6b95-8f06-4c13-aae6-49cc38b08f90",
   "metadata": {},
   "outputs": [
    {
     "name": "stdout",
     "output_type": "stream",
     "text": [
      "[3, 4, 5]\n"
     ]
    }
   ],
   "source": [
    "l1 = [1,2,3,4,5]\n",
    "l2= [3,4,5,6,7]\n",
    "\n",
    "l3 = [i for i in l1 if i in l2]\n",
    "print(l3)"
   ]
  },
  {
   "cell_type": "code",
   "execution_count": 4,
   "id": "53ea4430-2fb0-4ec9-aaeb-f6d374db3da4",
   "metadata": {},
   "outputs": [],
   "source": [
    "l = [1,2,3,4,5]\n",
    "i = l.index(3)"
   ]
  },
  {
   "cell_type": "code",
   "execution_count": 5,
   "id": "1c87ad1b-1ca4-46d5-bac1-25bc98ba7ebb",
   "metadata": {},
   "outputs": [
    {
     "data": {
      "text/plain": [
       "2"
      ]
     },
     "execution_count": 5,
     "metadata": {},
     "output_type": "execute_result"
    }
   ],
   "source": [
    "i"
   ]
  },
  {
   "cell_type": "code",
   "execution_count": null,
   "id": "1065c2bf-8faa-4d64-882e-e9be0118fcdb",
   "metadata": {},
   "outputs": [],
   "source": []
  }
 ],
 "metadata": {
  "kernelspec": {
   "display_name": "Python 3 (ipykernel)",
   "language": "python",
   "name": "python3"
  },
  "language_info": {
   "codemirror_mode": {
    "name": "ipython",
    "version": 3
   },
   "file_extension": ".py",
   "mimetype": "text/x-python",
   "name": "python",
   "nbconvert_exporter": "python",
   "pygments_lexer": "ipython3",
   "version": "3.11.7"
  },
  "widgets": {
   "application/vnd.jupyter.widget-state+json": {
    "state": {},
    "version_major": 2,
    "version_minor": 0
   }
  }
 },
 "nbformat": 4,
 "nbformat_minor": 5
}
