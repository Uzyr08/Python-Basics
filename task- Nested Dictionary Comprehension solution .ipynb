{
 "cells": [
  {
   "cell_type": "markdown",
   "id": "a027ec34-e093-45d4-9b83-264e478c85cc",
   "metadata": {},
   "source": [
    "#### Make a ditionary of dictionaries, outer ditionary keys are name of months its value is a dictionary containing the no. of days and season of that month "
   ]
  },
  {
   "cell_type": "code",
   "execution_count": 1,
   "id": "391aba78-3caf-45eb-87bc-6a8634156626",
   "metadata": {},
   "outputs": [
    {
     "data": {
      "text/plain": [
       "{'january': {'Days': 31, 'Season': 'Winter'},\n",
       " 'feburary': {'Days': 28, 'Season': 'Winter'},\n",
       " 'march': {'Days': 31, 'Season': 'Winter'},\n",
       " 'april': {'Days': 30, 'Season': 'Spring'},\n",
       " 'may': {'Days': 31, 'Season': 'Spring'},\n",
       " 'june': {'Days': 30, 'Season': 'Summer'},\n",
       " 'july': {'Days': 31, 'Season': 'Summer'},\n",
       " 'august': {'Days': 31, 'Season': 'Summer'},\n",
       " 'september': {'Days': 30, 'Season': 'Summer'},\n",
       " 'october': {'Days': 31, 'Season': 'Autumn'},\n",
       " 'november': {'Days': 30, 'Season': 'Autumn'},\n",
       " 'december': {'Days': 31, 'Season': 'Winter'}}"
      ]
     },
     "execution_count": 1,
     "metadata": {},
     "output_type": "execute_result"
    }
   ],
   "source": [
    "def dictionary(month):\n",
    "    d = {}\n",
    "    if month in 'january march may july august october december'.split():\n",
    "        d['Days']=31\n",
    "    elif month == 'feburary':\n",
    "        d['Days']=28\n",
    "    elif month in 'april june september november'.split():\n",
    "        d['Days']=30\n",
    "    if month in 'june july august september'.split():\n",
    "        d['Season']='Summer'\n",
    "    elif month in 'october november'.split():\n",
    "        d['Season']='Autumn'\n",
    "    elif month in 'december january feburary march'.split():\n",
    "        d['Season']='Winter'\n",
    "    elif month in 'april may'.split():\n",
    "        d['Season']='Spring'\n",
    "    return d\n",
    "\n",
    "\n",
    "months = 'january feburary march april may june july august september october november december'.split()\n",
    "\n",
    "d = {k:dictionary(k) for k in months}\n",
    "d"
   ]
  },
  {
   "cell_type": "markdown",
   "id": "7e0869b2-8a6e-4be3-9308-ac3c997d54d9",
   "metadata": {},
   "source": [
    "#### What code generates a dictionary representing a grid, where each row is labeled 'R1', 'R2', 'R3' and each column is labeled 'C1', 'C2', 'C3', with each cell initialized to a space character?"
   ]
  },
  {
   "cell_type": "code",
   "execution_count": 7,
   "id": "d1414cee-4746-40c4-8ece-ba007ace0a56",
   "metadata": {},
   "outputs": [
    {
     "data": {
      "text/plain": [
       "{'R1': {'C1': ' ', 'C2': ' ', 'C3': ' '},\n",
       " 'R2': {'C1': ' ', 'C2': ' ', 'C3': ' '},\n",
       " 'R3': {'C1': ' ', 'C2': ' ', 'C3': ' '}}"
      ]
     },
     "execution_count": 7,
     "metadata": {},
     "output_type": "execute_result"
    }
   ],
   "source": [
    "row = 'R1 R2 R3'.split()\n",
    "col = 'C1 C2 C3'.split()\n",
    "\n",
    "d = {r:{c:' ' for c in col} for r in row}\n",
    "d"
   ]
  },
  {
   "cell_type": "markdown",
   "id": "2bdf0cbe-c511-49bc-a890-36a8bf2fc7c1",
   "metadata": {},
   "source": [
    "#### Make a nested dictionary in which the key of outer dictionary is name of student and its value is a dictionary containing marks of its subjects"
   ]
  },
  {
   "cell_type": "code",
   "execution_count": 14,
   "id": "7d609db1-135b-4fe6-9481-05782bc340fe",
   "metadata": {},
   "outputs": [
    {
     "data": {
      "text/plain": [
       "{'umar': {'java': 52, 'python': 77, 'html': 70, 'css': 66, 'javascript': 72},\n",
       " 'ali': {'java': 83, 'python': 86, 'html': 84, 'css': 92, 'javascript': 72},\n",
       " 'osman': {'java': 69, 'python': 57, 'html': 52, 'css': 70, 'javascript': 77},\n",
       " 'abid': {'java': 79, 'python': 77, 'html': 50, 'css': 70, 'javascript': 69},\n",
       " 'kareem': {'java': 63, 'python': 51, 'html': 55, 'css': 87, 'javascript': 93},\n",
       " 'sameer': {'java': 50, 'python': 75, 'html': 93, 'css': 90, 'javascript': 64}}"
      ]
     },
     "execution_count": 14,
     "metadata": {},
     "output_type": "execute_result"
    }
   ],
   "source": [
    "import random as rd\n",
    "def marks(student,subject):\n",
    "    return rd.randint(47,93)\n",
    "std = 'umar ali osman abid kareem sameer'.split()\n",
    "subjects = 'java python html css javascript'.split()\n",
    "d = {s:{sub :marks(s,sub) for sub in subjects} for s in std}\n",
    "d"
   ]
  },
  {
   "cell_type": "markdown",
   "id": "80829504-3ab2-482e-a0e5-34ed27daf63b",
   "metadata": {},
   "source": [
    "#### Make a nested dictionary in which the key of outer dictionary is product category and its value is a dictionary containing items as keys and its priice as value"
   ]
  },
  {
   "cell_type": "code",
   "execution_count": 15,
   "id": "a6c0d9c1-8c19-48e7-96bf-69d9c3342a4b",
   "metadata": {},
   "outputs": [
    {
     "data": {
      "text/plain": [
       "{'bakery': {'biscuits': 119, 'bread': 157, 'cake': 288},\n",
       " 'sweets': {'rassgulla': 287, 'barfi': 142, 'pateesa': 156, 'jaman': 207},\n",
       " 'general_store': {'pulses': 169, 'rice': 261, 'maize': 132, 'wheat': 287},\n",
       " 'stationary': {'copy': 270, 'register': 286, 'books': 202, 'toys': 282}}"
      ]
     },
     "execution_count": 15,
     "metadata": {},
     "output_type": "execute_result"
    }
   ],
   "source": [
    "import random as rd\n",
    "def result(categ):\n",
    "    if categ == 'bakery':\n",
    "        prod = 'biscuits bread cake'.split()\n",
    "        return {p:rd.randint(100,300) for p in prod}\n",
    "    elif categ == 'sweets':\n",
    "        prod = 'rassgulla barfi pateesa jaman'.split()\n",
    "        return {p:rd.randint(100,300) for p in prod}\n",
    "    elif categ == 'general_store':\n",
    "        prod = 'pulses rice maize wheat'.split()\n",
    "        return {p:rd.randint(100,300) for p in prod}\n",
    "    elif categ == 'stationary':\n",
    "        prod = 'copy register books toys'.split()\n",
    "        return {p:rd.randint(100,300) for p in prod}\n",
    "cat = 'bakery sweets general_store stationary'.split()\n",
    "\n",
    "d = {c:result(c) for c in cat}\n",
    "d\n",
    "\n"
   ]
  },
  {
   "cell_type": "markdown",
   "id": "465dce55-aa2a-43c2-8776-c9157b281c59",
   "metadata": {},
   "source": [
    "#### Generate a nested dictionary comprehension to create a dictionary of dictionaries where each inner dictionary contains a value from a list, and the keys are their corresponding indices."
   ]
  },
  {
   "cell_type": "code",
   "execution_count": 2,
   "id": "c948a90e-c524-40eb-8f68-cc9040936f25",
   "metadata": {},
   "outputs": [
    {
     "name": "stdout",
     "output_type": "stream",
     "text": [
      "{0: {0: 1}, 1: {1: 2}, 2: {2: 3}, 3: {3: 4}, 4: {4: 5}}\n"
     ]
    }
   ],
   "source": [
    "l = [1,2,3,4,5]\n",
    "\n",
    "d = {l.index(i):{l.index(i):i }for i in l}\n",
    "print(d)"
   ]
  },
  {
   "cell_type": "code",
   "execution_count": null,
   "id": "203e2703-f69d-4159-8377-1d9c87b7b3fc",
   "metadata": {},
   "outputs": [],
   "source": []
  }
 ],
 "metadata": {
  "kernelspec": {
   "display_name": "Python 3 (ipykernel)",
   "language": "python",
   "name": "python3"
  },
  "language_info": {
   "codemirror_mode": {
    "name": "ipython",
    "version": 3
   },
   "file_extension": ".py",
   "mimetype": "text/x-python",
   "name": "python",
   "nbconvert_exporter": "python",
   "pygments_lexer": "ipython3",
   "version": "3.11.7"
  },
  "widgets": {
   "application/vnd.jupyter.widget-state+json": {
    "state": {},
    "version_major": 2,
    "version_minor": 0
   }
  }
 },
 "nbformat": 4,
 "nbformat_minor": 5
}
