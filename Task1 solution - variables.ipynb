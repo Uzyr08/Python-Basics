{
 "cells": [
  {
   "cell_type": "markdown",
   "id": "313a8d81",
   "metadata": {},
   "source": [
    "## Question no.1"
   ]
  },
  {
   "cell_type": "markdown",
   "id": "999e5fbe",
   "metadata": {},
   "source": [
    "Create a variable called break and assign it a value 5. See what happens and find out the reason behind the behavior that you see"
   ]
  },
  {
   "cell_type": "code",
   "execution_count": 1,
   "id": "75bd4670",
   "metadata": {},
   "outputs": [
    {
     "ename": "SyntaxError",
     "evalue": "invalid syntax (800182598.py, line 1)",
     "output_type": "error",
     "traceback": [
      "\u001b[1;36m  Cell \u001b[1;32mIn[1], line 1\u001b[1;36m\u001b[0m\n\u001b[1;33m    break=5\u001b[0m\n\u001b[1;37m         ^\u001b[0m\n\u001b[1;31mSyntaxError\u001b[0m\u001b[1;31m:\u001b[0m invalid syntax\n"
     ]
    }
   ],
   "source": [
    "break=5\n",
    "# this shows syntax error because break is a key word and cannot used as a variable name"
   ]
  },
  {
   "cell_type": "markdown",
   "id": "231ccfc2",
   "metadata": {},
   "source": [
    "## Question no.2"
   ]
  },
  {
   "cell_type": "markdown",
   "id": "004b186d",
   "metadata": {},
   "source": [
    "Create two variables. One to store your birth year and another one to store current year. Now calculate your age using these two variables"
   ]
  },
  {
   "cell_type": "code",
   "execution_count": 2,
   "id": "9b87fd05",
   "metadata": {},
   "outputs": [
    {
     "data": {
      "text/plain": [
       "22"
      ]
     },
     "execution_count": 2,
     "metadata": {},
     "output_type": "execute_result"
    }
   ],
   "source": [
    "bYear = 2002\n",
    "cYear = 2024\n",
    "age = cYear-bYear\n",
    "age"
   ]
  },
  {
   "cell_type": "markdown",
   "id": "8e9acfa5",
   "metadata": {},
   "source": [
    "## Question no.3"
   ]
  },
  {
   "cell_type": "markdown",
   "id": "7d259a11",
   "metadata": {},
   "source": [
    "Store your first, middle and last name in three different variables and then print your full name using these variables"
   ]
  },
  {
   "cell_type": "code",
   "execution_count": 6,
   "id": "01ecbb0a",
   "metadata": {},
   "outputs": [
    {
     "name": "stdout",
     "output_type": "stream",
     "text": [
      "My name is  Uzair  Mustafa\n",
      "My name is Uzair  Mustafa\n",
      "My name is Uzair  Mustafa\n"
     ]
    }
   ],
   "source": [
    "first = 'Uzair'\n",
    "middle = ''\n",
    "last = 'Mustafa'\n",
    "print('My name is ',first,middle,last)\n",
    "print(f'My name is {first} {middle} {last}')\n",
    "print('My name is %s %s %s'%(first,middle,last))"
   ]
  },
  {
   "cell_type": "code",
   "execution_count": null,
   "id": "896a570c",
   "metadata": {},
   "outputs": [],
   "source": [
    "word = input('enter a word')\n",
    "flag=False\n",
    "if len(word)%2==0:\n",
    "    for i in range((len(word)):\n",
    "        "
   ]
  }
 ],
 "metadata": {
  "kernelspec": {
   "display_name": "Python 3 (ipykernel)",
   "language": "python",
   "name": "python3"
  },
  "language_info": {
   "codemirror_mode": {
    "name": "ipython",
    "version": 3
   },
   "file_extension": ".py",
   "mimetype": "text/x-python",
   "name": "python",
   "nbconvert_exporter": "python",
   "pygments_lexer": "ipython3",
   "version": "3.11.7"
  },
  "widgets": {
   "application/vnd.jupyter.widget-state+json": {
    "state": {},
    "version_major": 2,
    "version_minor": 0
   }
  }
 },
 "nbformat": 4,
 "nbformat_minor": 5
}
