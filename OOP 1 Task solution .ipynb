{
 "cells": [
  {
   "cell_type": "markdown",
   "id": "6dcede0e-2e3a-4085-9c49-cbb3f0387938",
   "metadata": {},
   "source": [
    "#### 1.\tWrite a Python program to create a class called \"Rectangle\" with width and height attributes. Calculate the area and perimeter of the rectangle."
   ]
  },
  {
   "cell_type": "code",
   "execution_count": 2,
   "id": "9a7e2bbf-6c08-42a9-9225-5e8230eea0ed",
   "metadata": {},
   "outputs": [],
   "source": [
    "class Rectangle:\n",
    "    def __init__(self,w,h):\n",
    "        self.width = w\n",
    "        self.height = h\n",
    "        self.area()\n",
    "        self.perimeter()\n",
    "    def area(self):\n",
    "        area = self.height*self.width\n",
    "        print(f'The area of the rectangle is {area}\\n')\n",
    "    def perimeter(self):\n",
    "        peri = 2*(self.height+self.height)\n",
    "        print(f'The parimeter of this rectangle is {peri}\\n')\n",
    "\n"
   ]
  },
  {
   "cell_type": "code",
   "execution_count": 3,
   "id": "5a7bcfef-173d-4353-9d1c-03e1ed24cf0f",
   "metadata": {},
   "outputs": [
    {
     "name": "stdout",
     "output_type": "stream",
     "text": [
      "The area of the rectangle is 24\n",
      "\n",
      "The parimeter of this rectangle is 24\n",
      "\n"
     ]
    }
   ],
   "source": [
    "obj = Rectangle(4,6)"
   ]
  },
  {
   "cell_type": "markdown",
   "id": "5bf345d0-03fc-481b-a67c-8bdfa2d6ae9e",
   "metadata": {},
   "source": [
    "#### 2.\tWrite a Python program to create a class called \"Circle\" with a radius attribute. You can access and modify this attribute. Calculate the area and circumference of the circle."
   ]
  },
  {
   "cell_type": "code",
   "execution_count": 4,
   "id": "4ee698af-3d6f-4777-8a1f-f1e5a2bd60ea",
   "metadata": {},
   "outputs": [],
   "source": [
    "class Circle:\n",
    "    def __init__(self,r):\n",
    "        self.radius = r\n",
    "        self.area()\n",
    "        self.circumference()\n",
    "\n",
    "    def area(self):\n",
    "        area = 2*3.14*(self.radius**2)\n",
    "        print(f'The area of circle with radius {self.radius} is {area}\\n')\n",
    "\n",
    "    def circumference(self):\n",
    "        circum = 2*3.14*self.radius\n",
    "        print(f'The cicumference of circle with radius {self.radius} is {circum}\\n ')\n",
    "        opt = int(input('''\n",
    "        press 1 to modify the radius and zero too exit\\n\n",
    "        '''))\n",
    "        if opt ==1:\n",
    "            r = int(input('enter the radius\\n'))\n",
    "            self.__init__(r)\n",
    "        else:\n",
    "            print('Program Ended\\n')\n",
    "\n"
   ]
  },
  {
   "cell_type": "code",
   "execution_count": 5,
   "id": "b43cdeed-546f-4ade-b09d-5b34633bb361",
   "metadata": {},
   "outputs": [
    {
     "name": "stdout",
     "output_type": "stream",
     "text": [
      "The area of circle with radius 3 is 56.52\n",
      "\n",
      "The cicumference of circle with radius 3 is 18.84\n",
      " \n"
     ]
    },
    {
     "name": "stdin",
     "output_type": "stream",
     "text": [
      "\n",
      "        press 1 to modify the radius and zero too exit\n",
      "\n",
      "         1\n",
      "enter the radius\n",
      " 12\n"
     ]
    },
    {
     "name": "stdout",
     "output_type": "stream",
     "text": [
      "The area of circle with radius 12 is 904.32\n",
      "\n",
      "The cicumference of circle with radius 12 is 75.36\n",
      " \n"
     ]
    },
    {
     "name": "stdin",
     "output_type": "stream",
     "text": [
      "\n",
      "        press 1 to modify the radius and zero too exit\n",
      "\n",
      "         0\n"
     ]
    },
    {
     "name": "stdout",
     "output_type": "stream",
     "text": [
      "Program Ended\n",
      "\n"
     ]
    }
   ],
   "source": [
    "obj = Circle(3)"
   ]
  },
  {
   "cell_type": "markdown",
   "id": "82263644-cd6d-41d9-9468-5429a7140c84",
   "metadata": {},
   "source": [
    "#### 3.\t Write a Python program to create a class called \"Book\" with attributes for title, author, and ISBN, and methods to add and remove books from a collection."
   ]
  },
  {
   "cell_type": "code",
   "execution_count": 18,
   "id": "7d53d8a5-5349-493f-ac32-1612e4feee90",
   "metadata": {},
   "outputs": [],
   "source": [
    "class Book:\n",
    "    def __init__(self,isbn,author,title):\n",
    "        self.title = title\n",
    "        self.author = author\n",
    "        self.isbn = isbn\n",
    "        self.collection = {self.isbn:{'Author':self.author,'Title':self.title}}\n",
    "        self.menu()\n",
    "\n",
    "    def menu(self):\n",
    "        opt = int(input('''\n",
    "        Choose from following options \n",
    "        1.Add a book\n",
    "        2.Remove a book\n",
    "        3.Display Collection\n",
    "        4.Exit\n",
    "        '''))\n",
    "        if opt ==1:\n",
    "            self.addBook()\n",
    "        elif opt == 2:\n",
    "            self.removeBook()\n",
    "        elif opt == 3:\n",
    "            self.displayCollection()\n",
    "        else:\n",
    "            self.exit()\n",
    "\n",
    "\n",
    "    def addBook(self):\n",
    "        print('...ADDIING BOOK...')\n",
    "        isbn = int(input('Enter the ISBN number of book you want to add\\n'))\n",
    "        if isbn in self.collection.keys():\n",
    "            print('this book already exists\\n')\n",
    "            print(self.collection[isbn])\n",
    "            \n",
    "        else:    \n",
    "            author = input('Enter the name of author of book you want to add\\n')\n",
    "            title = input('Enter the title of book you want to add\\n')\n",
    "            self.collection[isbn]={'Author':author,'Title':title}\n",
    "            print('Book Added\\n')\n",
    "        self.menu()\n",
    "\n",
    "    def removeBook(self):\n",
    "        print('...BOOK REMOVING SECTION...')\n",
    "        if len(self.collection)!=0:\n",
    "            isbn = int(input('Enter the isbn number of the book which you want to remove\\n'))\n",
    "            if isbn in self.collection.keys():\n",
    "                del self.collection[isbn]\n",
    "                print('Book Removed\\n')\n",
    "                self.menu()\n",
    "            else:\n",
    "                print('No book with such ISBN number exists in collection\\n')\n",
    "                self.menu()\n",
    "        else:\n",
    "            print('There is no book in your collection\\n')\n",
    "            print('''\n",
    "            press 1 if you want to add a book in collection\n",
    "            press 0 to exit\\n''')\n",
    "            opt = int(input())\n",
    "            if opt == 1:\n",
    "                self.addBook()\n",
    "            else:\n",
    "                self.exit()\n",
    "    def displayCollection(self):\n",
    "        if len(self.collection)!=0:\n",
    "            print('This is the books collection\\n',self.collection)\n",
    "        else:\n",
    "            print('No book in collection\\n')\n",
    "\n",
    "        self.menu()\n",
    "    def exit(self):\n",
    "        print('Program Exited\\n')"
   ]
  },
  {
   "cell_type": "code",
   "execution_count": 19,
   "id": "bc60ada9-4e04-4fa0-9175-6437f55b197e",
   "metadata": {},
   "outputs": [
    {
     "name": "stdin",
     "output_type": "stream",
     "text": [
      "\n",
      "        Choose from following options \n",
      "        1.Add a book\n",
      "        2.Remove a book\n",
      "        3.Display Collection\n",
      "        4.Exit\n",
      "         2\n"
     ]
    },
    {
     "name": "stdout",
     "output_type": "stream",
     "text": [
      "...BOOK REMOVING SECTION...\n"
     ]
    },
    {
     "name": "stdin",
     "output_type": "stream",
     "text": [
      "Enter the isbn number of the book which you want to remove\n",
      " 1\n"
     ]
    },
    {
     "name": "stdout",
     "output_type": "stream",
     "text": [
      "No book with such ISBN number exists in collection\n",
      "\n"
     ]
    },
    {
     "name": "stdin",
     "output_type": "stream",
     "text": [
      "\n",
      "        Choose from following options \n",
      "        1.Add a book\n",
      "        2.Remove a book\n",
      "        3.Display Collection\n",
      "        4.Exit\n",
      "         2\n"
     ]
    },
    {
     "name": "stdout",
     "output_type": "stream",
     "text": [
      "...BOOK REMOVING SECTION...\n"
     ]
    },
    {
     "name": "stdin",
     "output_type": "stream",
     "text": [
      "Enter the isbn number of the book which you want to remove\n",
      " 1111\n"
     ]
    },
    {
     "name": "stdout",
     "output_type": "stream",
     "text": [
      "Book Removed\n",
      "\n"
     ]
    },
    {
     "name": "stdin",
     "output_type": "stream",
     "text": [
      "\n",
      "        Choose from following options \n",
      "        1.Add a book\n",
      "        2.Remove a book\n",
      "        3.Display Collection\n",
      "        4.Exit\n",
      "         3\n"
     ]
    },
    {
     "name": "stdout",
     "output_type": "stream",
     "text": [
      "No book in collection\n",
      "\n"
     ]
    },
    {
     "name": "stdin",
     "output_type": "stream",
     "text": [
      "\n",
      "        Choose from following options \n",
      "        1.Add a book\n",
      "        2.Remove a book\n",
      "        3.Display Collection\n",
      "        4.Exit\n",
      "         4\n"
     ]
    },
    {
     "name": "stdout",
     "output_type": "stream",
     "text": [
      "Program Exited\n",
      "\n"
     ]
    }
   ],
   "source": [
    "obj = Book(1111,'Uzair Mustafa','Object Oriented Programming')"
   ]
  },
  {
   "cell_type": "markdown",
   "id": "ab37fb96-a5fc-4697-af7f-c4cf431422ec",
   "metadata": {},
   "source": [
    "#### 4.\t Write a Python program to create a class called \"Employee\" with  id, name, job title, and salary attributes, and methods to calculate and update salary, display employees data and add employee."
   ]
  },
  {
   "cell_type": "code",
   "execution_count": 12,
   "id": "719b200a-c0dd-44a7-92b1-46e7a0d99f5a",
   "metadata": {},
   "outputs": [],
   "source": [
    "class Employee:\n",
    "    def __init__(self,id,name,job,salary):\n",
    "        self.id = id\n",
    "        self.name = name\n",
    "        self.job = job\n",
    "        self.salary = salary\n",
    "        self.empInfo = {self.id:{'Name':self.name,'Job Title':self.job,'Monthly Salary':self.salary}}\n",
    "        self.menu()\n",
    "\n",
    "    \n",
    "    def menu(self):\n",
    "        print('''\n",
    "        what operation you want to perform\\n\n",
    "        1.Calculate salary of an employee\n",
    "        2.Update salary\n",
    "        3.Display Employees Data \n",
    "        4.Add employee\n",
    "        5.Exit\n",
    "        ''')\n",
    "        opt = int(input())\n",
    "        if opt ==1:\n",
    "            self.calculateSalary()\n",
    "        elif opt == 2:\n",
    "            self.updateSalary()\n",
    "        elif opt ==3:\n",
    "            self.display()\n",
    "        elif opt ==4:\n",
    "            self.addEmployee()\n",
    "        else:\n",
    "            self.exit()\n",
    "\n",
    "    def calculateSalary(self):\n",
    "        print('......SALARY CALCULATION......')\n",
    "        id = int(input('Enter the id of employee of whom you want to calculate salary\\n'))\n",
    "        if id in self.empInfo.keys():\n",
    "            months = int(input('How many months salary you want to calculate\\n'))\n",
    "            sal = self.empInfo[id]['Monthly Salary']\n",
    "            emp = self.empInfo[id]['Name']\n",
    "            totalSal = sal*months\n",
    "            print(f'Salary of {emp} for {months} months is {totalSal}\\n')\n",
    "        else:\n",
    "            print('No employee with such id exists\\n')\n",
    "        self.menu()\n",
    "\n",
    "    def updateSalary(self):\n",
    "        print('......UPDATING SALARY......')\n",
    "        id = int(input('Enter the id of employee of whom you want to calculate salary\\n'))\n",
    "        if id in self.empInfo.keys():\n",
    "            empName = self.empInfo[id]['Name']\n",
    "            sal = self.empInfo[id]['Monthly Salary']\n",
    "            print(f'Current Salary Of {empName} is {sal}\\n')\n",
    "            newSal = int(input('Enter the updated salary\\n'))\n",
    "            self.empInfo[id]['Monthly Salary']=newSal\n",
    "            print('Salary Updated...\\n')\n",
    "            \n",
    "        else:\n",
    "            print('No employee with such id exists\\n')\n",
    "        self.menu()\n",
    "\n",
    "    def display(self):\n",
    "        print('......DISPLAYING EMPLOYEES DATA......\\n')\n",
    "        print(self.empInfo)\n",
    "        self.menu()\n",
    "\n",
    "    def addEmployee(self):\n",
    "        print('......NEW EMPLOYEE......')\n",
    "        id = int(input('Enter the id of new employee\\n'))\n",
    "        if id in self.empInfo.keys():\n",
    "            print('Employee already exists with this id\\n')\n",
    "            print(self.empInfo[id])\n",
    "        else:\n",
    "            name = input('Enter name of employee\\n')\n",
    "            job = input('Enter the job title\\n')\n",
    "            salary = int(input('Enter monthly salary\\n'))\n",
    "            self.empInfo[id] = {'Name':name,'Job Title':job,'Monthly Salary':salary}\n",
    "            print('Employee Added...\\n')\n",
    "        self.menu()\n",
    "            \n",
    "        \n",
    "    \n",
    "    def exit(self):\n",
    "        print('System Exited\\n')\n",
    "        "
   ]
  },
  {
   "cell_type": "code",
   "execution_count": 13,
   "id": "22c8473f-0d39-4cdb-a357-13d966da7913",
   "metadata": {
    "scrolled": true
   },
   "outputs": [
    {
     "name": "stdout",
     "output_type": "stream",
     "text": [
      "\n",
      "        what operation you want to perform\n",
      "\n",
      "        1.Calculate salary of an employee\n",
      "        2.Update salary\n",
      "        3.Display Employees Data \n",
      "        4.Add employee\n",
      "        5.Exit\n",
      "        \n"
     ]
    },
    {
     "name": "stdin",
     "output_type": "stream",
     "text": [
      " 4\n"
     ]
    },
    {
     "name": "stdout",
     "output_type": "stream",
     "text": [
      "......NEW EMPLOYEE......\n"
     ]
    },
    {
     "name": "stdin",
     "output_type": "stream",
     "text": [
      "Enter the id of new employee\n",
      " 1234\n",
      "Enter name of employee\n",
      " Fazal\n",
      "Enter the job title\n",
      " Data Scientist\n",
      "Enter monthly salary\n",
      " 200000\n"
     ]
    },
    {
     "name": "stdout",
     "output_type": "stream",
     "text": [
      "Employee Added...\n",
      "\n",
      "\n",
      "        what operation you want to perform\n",
      "\n",
      "        1.Calculate salary of an employee\n",
      "        2.Update salary\n",
      "        3.Display Employees Data \n",
      "        4.Add employee\n",
      "        5.Exit\n",
      "        \n"
     ]
    },
    {
     "name": "stdin",
     "output_type": "stream",
     "text": [
      " 3\n"
     ]
    },
    {
     "name": "stdout",
     "output_type": "stream",
     "text": [
      "......DISPLAYING EMPLOYEES DATA......\n",
      "\n",
      "{1: {'Name': 'Uzair Mustafa', 'Job Title': 'AI Developer', 'Monthly Salary': 200000}, 1234: {'Name': 'Fazal', 'Job Title': 'Data Scientist', 'Monthly Salary': 200000}}\n",
      "\n",
      "        what operation you want to perform\n",
      "\n",
      "        1.Calculate salary of an employee\n",
      "        2.Update salary\n",
      "        3.Display Employees Data \n",
      "        4.Add employee\n",
      "        5.Exit\n",
      "        \n"
     ]
    },
    {
     "name": "stdin",
     "output_type": "stream",
     "text": [
      " 1\n"
     ]
    },
    {
     "name": "stdout",
     "output_type": "stream",
     "text": [
      "......SALARY CALCULATION......\n"
     ]
    },
    {
     "name": "stdin",
     "output_type": "stream",
     "text": [
      "Enter the id of employee of whom you want to calculate salary\n",
      " 1234\n",
      "How many months salary you want to calculate\n",
      " 3\n"
     ]
    },
    {
     "name": "stdout",
     "output_type": "stream",
     "text": [
      "Salary of Fazal for 3 months is 600000\n",
      "\n",
      "\n",
      "        what operation you want to perform\n",
      "\n",
      "        1.Calculate salary of an employee\n",
      "        2.Update salary\n",
      "        3.Display Employees Data \n",
      "        4.Add employee\n",
      "        5.Exit\n",
      "        \n"
     ]
    },
    {
     "name": "stdin",
     "output_type": "stream",
     "text": [
      " 5\n"
     ]
    },
    {
     "name": "stdout",
     "output_type": "stream",
     "text": [
      "System Exited\n",
      "\n"
     ]
    }
   ],
   "source": [
    "obj = Employee(1,'Uzair Mustafa','AI Developer',200000)"
   ]
  },
  {
   "cell_type": "markdown",
   "id": "fc07be3e-16dd-4bed-b164-cb94a191c628",
   "metadata": {},
   "source": [
    "#### 5. Write a Python program to create a class called \"Bank\" with a collection of accounts and methods to add and remove accounts, and to deposit and withdraw money. Also define a class called \"Account\" to maintain account details of a particular customer."
   ]
  },
  {
   "cell_type": "code",
   "execution_count": 22,
   "id": "5c07625e-bcf7-4065-bbc1-e6ef8b649cf8",
   "metadata": {},
   "outputs": [],
   "source": [
    "class Bank:\n",
    "    def __init__(self):\n",
    "        self.accounts = {}\n",
    "        self.menu()\n",
    "    def menu(self):\n",
    "        print('''\n",
    "        choose from following options \n",
    "        1.Add an account\n",
    "        2.Remove an account\n",
    "        3.Make deposit\n",
    "        4.Withdraw money\n",
    "        5.Exit\n",
    "        ''')\n",
    "        opt = int(input())\n",
    "        if opt ==1:\n",
    "            self.addAccount()\n",
    "        elif opt == 2:\n",
    "            self.removeAccount()\n",
    "        elif opt ==3:\n",
    "            self.deposite()\n",
    "        elif opt ==4:\n",
    "            self.withdraw()\n",
    "        else:\n",
    "            self.exit()\n",
    "\n",
    "    def addAccount(self):\n",
    "        print('......ADD NEW BANK CUSTOMER......\\n')\n",
    "        id = int(input('Enter account number\\n'))\n",
    "        if id in self.accounts.keys():\n",
    "            print(f'Account already exists\\n{self.accounts[id]}')\n",
    "        else:\n",
    "            name = input('Enter name of the account holder\\n')\n",
    "            pin = input('Enter four digit pin\\n')\n",
    "            while True:\n",
    "                if len(pin)==4:\n",
    "                    #print('Pin created successfully\\n')\n",
    "                    break\n",
    "                else:\n",
    "                    if len(pin)>4:\n",
    "                        print('length of pin exceeded\\nre-enter a four digit pin\\n')\n",
    "                        pin = input()\n",
    "                    else:\n",
    "                        print('length of pin is less than 4\\nre-enter a four digit pin\\n')\n",
    "                        pin = input()\n",
    "            self.accounts[id]={'Name':name,'PIN':pin,'Balance':0}\n",
    "            print('Customer added successfully\\n')\n",
    "            self.menu()\n",
    "\n",
    "    def removeAccount(self):\n",
    "        print('......ACOUNT REMOVING......\\n')\n",
    "        if len(self.accounts)!=0:\n",
    "            id = int(input('Enter the account number of account which you want to remove\\n'))\n",
    "            if id in self.accounts.keys():\n",
    "                del self.accounts[id]\n",
    "                print('Account removed successfully\\n')\n",
    "            else:\n",
    "                print('Account not found\\n')\n",
    "            \n",
    "        else:\n",
    "            print('No existing Accounts\\n')\n",
    "        self.menu()\n",
    "\n",
    "    def authentication(self,id):\n",
    "        #id = input('Enter the account number\\n')\n",
    "        if id in self.accounts.keys():\n",
    "            pin = input('Enter the pin\\n')\n",
    "            i = 3\n",
    "            while i >=0:\n",
    "                if pin ==self.accounts[id]['PIN']:\n",
    "                    return True\n",
    "                    break\n",
    "                else:\n",
    "                    if i == 0:\n",
    "                        return False\n",
    "                        break\n",
    "                    else:\n",
    "                        print('You have entered wrong PIN\\nTry again\\n')\n",
    "                        pin = input()\n",
    "\n",
    "        else:\n",
    "            print('Account not found\\n')\n",
    "            return False\n",
    "        \n",
    "                \n",
    "    def deposite(self):\n",
    "        print('......DEPOSIT SECTION......\\n')\n",
    "        id = int(input('Enter the account number\\n'))\n",
    "        if self.authentication(id):\n",
    "            amount = int(input('Enter the amount you want to deposit\\n'))\n",
    "            self.accounts[id]['Balance'] +=amount\n",
    "            print('Deposit successful...\\n')\n",
    "            self.menu()\n",
    "        else:\n",
    "            print('Invalid account information\\nExiting System\\n')\n",
    "            self.exit()\n",
    "\n",
    "    def withdraw(self):\n",
    "        print('......WITHDRAWL......\\n')\n",
    "        id = int(input('Enter the account number\\n'))\n",
    "        if self.authentication(id):\n",
    "            amount = int(input('Enter the amount you want to withdraw\\n'))\n",
    "            balance = self.accounts[id]['Balance']\n",
    "            while True:\n",
    "                if amount>=balance:\n",
    "                    \n",
    "                    print('Insufficient Balance\\nYour current balance is ',balance,'\\n')\n",
    "                    opt = int(input('''\n",
    "                    choose an option\n",
    "                    1.Try again\n",
    "                    2.Goto Menu\n",
    "                    3.Exit\n",
    "                    '''))\n",
    "                    if opt ==1:\n",
    "                        amount = int(input('Enter the amount again\\n'))\n",
    "                    elif opt == 2:\n",
    "                        self.menu()\n",
    "                    else:\n",
    "                        self.exit()\n",
    "\n",
    "                else:\n",
    "                    break\n",
    "            self.accounts[id]['Balance']-=amount\n",
    "            balance = self.accounts[id]['Balance']\n",
    "            print(f'Withdrawl successful...\\nRemaining balance is {balance}\\n')\n",
    "            self.menu()\n",
    "        else:\n",
    "            print('Authentication failed...\\n')\n",
    "            self.exit()\n",
    "    def exit(self):\n",
    "        print('System Exited...')\n",
    "                \n",
    "       \n",
    "            \n",
    "        \n",
    "        \n",
    "            \n",
    "                         \n",
    "            "
   ]
  },
  {
   "cell_type": "code",
   "execution_count": 23,
   "id": "c82b8af4-1621-457e-8f64-8d66a7682695",
   "metadata": {},
   "outputs": [
    {
     "name": "stdout",
     "output_type": "stream",
     "text": [
      "\n",
      "        choose from following options \n",
      "        1.Add an account\n",
      "        2.Remove an account\n",
      "        3.Make deposit\n",
      "        4.Withdraw money\n",
      "        5.Exit\n",
      "        \n"
     ]
    },
    {
     "name": "stdin",
     "output_type": "stream",
     "text": [
      " 1\n"
     ]
    },
    {
     "name": "stdout",
     "output_type": "stream",
     "text": [
      "......ADD NEW BANK CUSTOMER......\n",
      "\n"
     ]
    },
    {
     "name": "stdin",
     "output_type": "stream",
     "text": [
      "Enter account number\n",
      " 1234\n",
      "Enter name of the account holder\n",
      " mudasir\n",
      "Enter four digit pin\n",
      " 1111\n"
     ]
    },
    {
     "name": "stdout",
     "output_type": "stream",
     "text": [
      "{1234: {'Name': 'mudasir', 'PIN': '1111', 'Balance': 0}}\n",
      "dict_keys([1234]) these are keys\n",
      "Customer added successfully\n",
      "\n",
      "\n",
      "        choose from following options \n",
      "        1.Add an account\n",
      "        2.Remove an account\n",
      "        3.Make deposit\n",
      "        4.Withdraw money\n",
      "        5.Exit\n",
      "        \n"
     ]
    },
    {
     "name": "stdin",
     "output_type": "stream",
     "text": [
      " 5\n"
     ]
    },
    {
     "name": "stdout",
     "output_type": "stream",
     "text": [
      "System Exited...\n"
     ]
    }
   ],
   "source": [
    "bnk = Bank()"
   ]
  },
  {
   "cell_type": "markdown",
   "id": "3d79c87c-a3f2-4753-820a-a073ee717918",
   "metadata": {},
   "source": [
    "#### 6.\t Write a Python program to create class called \"TrafficLight\" with attributes for color and duration, and methods to change the color and check for red or green."
   ]
  },
  {
   "cell_type": "code",
   "execution_count": 24,
   "id": "9cad5163-3e25-4da0-ac81-171cd61d6333",
   "metadata": {},
   "outputs": [],
   "source": [
    "import time as t\n",
    "class TraficLights:\n",
    "    def __init__(self,color,duration):\n",
    "        self.color = color\n",
    "        self.duration = duration\n",
    "        self.start = t.time()\n",
    "        self.end = self.duration+ t.time()\n",
    "        self.menu()\n",
    "\n",
    "    \n",
    "\n",
    "    def menu(self):\n",
    "        print('......MENU......\\n')\n",
    "        print('''Choose an option \n",
    "        1.Change Color\n",
    "        2.Check for red or green\n",
    "        3.Exit''')\n",
    "        opt = int(input())\n",
    "        if opt == 1:\n",
    "            self.changeColor()\n",
    "        elif opt == 2:\n",
    "            self.checkColor()\n",
    "        else:\n",
    "            self.exit()\n",
    "\n",
    "    def changeColor(self):\n",
    "        print('......CHANGE COLOR......\\n')\n",
    "        self.duration = int(input('Enter the duration of color in seconds\\n'))\n",
    "        if self.color == 'RED':\n",
    "            self.color = 'GREEN'\n",
    "        else:\n",
    "            self.color = 'RED'\n",
    "        self.end = t.time()+self.duration\n",
    "        self.menu()\n",
    "\n",
    "\n",
    "    def checkColor(self):\n",
    "        print('......CHECK COLOR......\\n')\n",
    "        if t.time()<self.end:\n",
    "            print(f'The signal is {self.color}\\n')\n",
    "        else:\n",
    "            print('Signal has no color\\n')\n",
    "        self.menu()\n",
    "\n",
    "    def exit(self):\n",
    "        print('Program Exited...!\\n')\n",
    "        "
   ]
  },
  {
   "cell_type": "code",
   "execution_count": 25,
   "id": "9348b4e0-febf-4f34-9f49-d4d0e2ff13c9",
   "metadata": {},
   "outputs": [
    {
     "name": "stdout",
     "output_type": "stream",
     "text": [
      "......MENU......\n",
      "\n",
      "Choose an option \n",
      "        1.Change Color\n",
      "        2.Check for red or green\n",
      "        3.Exit\n"
     ]
    },
    {
     "name": "stdin",
     "output_type": "stream",
     "text": [
      " 1\n"
     ]
    },
    {
     "name": "stdout",
     "output_type": "stream",
     "text": [
      "......CHANGE COLOR......\n",
      "\n"
     ]
    },
    {
     "name": "stdin",
     "output_type": "stream",
     "text": [
      "Enter the duration of color in seconds\n",
      " 10\n"
     ]
    },
    {
     "name": "stdout",
     "output_type": "stream",
     "text": [
      "......MENU......\n",
      "\n",
      "Choose an option \n",
      "        1.Change Color\n",
      "        2.Check for red or green\n",
      "        3.Exit\n"
     ]
    },
    {
     "name": "stdin",
     "output_type": "stream",
     "text": [
      " 2\n"
     ]
    },
    {
     "name": "stdout",
     "output_type": "stream",
     "text": [
      "......CHECK COLOR......\n",
      "\n",
      "The signal is GREEN\n",
      "\n",
      "......MENU......\n",
      "\n",
      "Choose an option \n",
      "        1.Change Color\n",
      "        2.Check for red or green\n",
      "        3.Exit\n"
     ]
    },
    {
     "name": "stdin",
     "output_type": "stream",
     "text": [
      " 2\n"
     ]
    },
    {
     "name": "stdout",
     "output_type": "stream",
     "text": [
      "......CHECK COLOR......\n",
      "\n",
      "Signal has no color\n",
      "\n",
      "......MENU......\n",
      "\n",
      "Choose an option \n",
      "        1.Change Color\n",
      "        2.Check for red or green\n",
      "        3.Exit\n"
     ]
    },
    {
     "name": "stdin",
     "output_type": "stream",
     "text": [
      " 3\n"
     ]
    },
    {
     "name": "stdout",
     "output_type": "stream",
     "text": [
      "Program Exited...!\n",
      "\n"
     ]
    }
   ],
   "source": [
    "obj = TraficLights('RED',10)"
   ]
  },
  {
   "cell_type": "code",
   "execution_count": null,
   "id": "e67d1e20-cb89-4f7a-a007-99f1cc5badb8",
   "metadata": {},
   "outputs": [],
   "source": []
  },
  {
   "cell_type": "code",
   "execution_count": null,
   "id": "119000c5-9f25-476d-8c77-89251b1fd26f",
   "metadata": {},
   "outputs": [],
   "source": []
  },
  {
   "cell_type": "code",
   "execution_count": null,
   "id": "e0282f37-1592-4e13-9e43-a88307e9ba3b",
   "metadata": {},
   "outputs": [],
   "source": []
  }
 ],
 "metadata": {
  "kernelspec": {
   "display_name": "Python 3 (ipykernel)",
   "language": "python",
   "name": "python3"
  },
  "language_info": {
   "codemirror_mode": {
    "name": "ipython",
    "version": 3
   },
   "file_extension": ".py",
   "mimetype": "text/x-python",
   "name": "python",
   "nbconvert_exporter": "python",
   "pygments_lexer": "ipython3",
   "version": "3.11.7"
  },
  "widgets": {
   "application/vnd.jupyter.widget-state+json": {
    "state": {},
    "version_major": 2,
    "version_minor": 0
   }
  }
 },
 "nbformat": 4,
 "nbformat_minor": 5
}
