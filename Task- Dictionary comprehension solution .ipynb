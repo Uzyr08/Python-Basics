{
 "cells": [
  {
   "cell_type": "markdown",
   "id": "9dc07476-e8c6-4e3e-a729-5e25a8d0f494",
   "metadata": {},
   "source": [
    "#### Create a dictionary mapping each character in a string to its frequency."
   ]
  },
  {
   "cell_type": "code",
   "execution_count": 1,
   "id": "113613ff-cdfd-4f80-b313-654799cdee4d",
   "metadata": {},
   "outputs": [
    {
     "name": "stdout",
     "output_type": "stream",
     "text": [
      "{'p': 2, 'y': 1, 't': 2, 'h': 1, 'o': 2, 'n': 3, 'i': 3, 's': 2, 'a': 5, 'v': 1, 'e': 3, 'r': 3, 'l': 2, 'g': 4, 'm': 2, 'u': 1}\n"
     ]
    }
   ],
   "source": [
    "str = \"python is a versatile programming language\"\n",
    "d = {k:str.count(k) for k in str if k!=' ' }\n",
    "print(d)"
   ]
  },
  {
   "cell_type": "markdown",
   "id": "db88ccc9-6910-4070-a458-f7f2e7e83430",
   "metadata": {},
   "source": [
    "#### Given a list of strings, create a dictionary where the keys are the strings and the values are their lengths."
   ]
  },
  {
   "cell_type": "code",
   "execution_count": 2,
   "id": "1cff6d39-869f-4511-9462-523c443a806c",
   "metadata": {},
   "outputs": [
    {
     "name": "stdout",
     "output_type": "stream",
     "text": [
      "{'uzair': 5, 'usama': 5, 'shadman': 7, 'fazal': 5}\n"
     ]
    }
   ],
   "source": [
    "l = ['uzair','usama','shadman','fazal']\n",
    "d = {k:len(k) for k in l}\n",
    "print(d)"
   ]
  },
  {
   "cell_type": "markdown",
   "id": "885035e5-ff7e-48b7-b3b6-be72de2d3a2a",
   "metadata": {},
   "source": [
    "#### Convert a dictionary of student names and their scores to a dictionary where the keys are the student names and the values are their grades (A, B, C, etc.)."
   ]
  },
  {
   "cell_type": "code",
   "execution_count": 3,
   "id": "fd44f9fe-78da-451d-af5d-04bc69190eff",
   "metadata": {},
   "outputs": [
    {
     "name": "stdout",
     "output_type": "stream",
     "text": [
      "{'uzair': 'C', 'shadman': 'A', 'fazal': 'F', 'usama': 'A'}\n"
     ]
    }
   ],
   "source": [
    "std = {'uzair':75,'shadman':98,'fazal':32,'usama':91}\n",
    "d = {k:'A' if m>90 else 'B' if m>80 else 'C' if m>70 else 'D' if m>60 else 'E' if m>50 else 'F' for k,m in std.items() }\n",
    "print(d)"
   ]
  },
  {
   "cell_type": "markdown",
   "id": "7a9cadc8-b66d-4791-94e1-5bcf30986b49",
   "metadata": {},
   "source": [
    "#### Given a list of integers, create a dictionary where the keys are the integers and the values are lists of their factors."
   ]
  },
  {
   "cell_type": "code",
   "execution_count": 4,
   "id": "67a2cdab-f9f2-4314-a5cc-d12835af73aa",
   "metadata": {},
   "outputs": [
    {
     "data": {
      "text/plain": [
       "{1: [1],\n",
       " 2: [1, 2],\n",
       " 3: [1, 3],\n",
       " 4: [1, 2, 4],\n",
       " 5: [1, 5],\n",
       " 6: [1, 2, 3, 6],\n",
       " 7: [1, 7],\n",
       " 8: [1, 2, 4, 8],\n",
       " 9: [1, 3, 9],\n",
       " 10: [1, 2, 5, 10],\n",
       " 11: [1, 11],\n",
       " 12: [1, 2, 3, 4, 6, 12],\n",
       " 13: [1, 13],\n",
       " 14: [1, 2, 7, 14],\n",
       " 15: [1, 3, 5, 15],\n",
       " 16: [1, 2, 4, 8, 16],\n",
       " 17: [1, 17],\n",
       " 18: [1, 2, 3, 6, 9, 18],\n",
       " 19: [1, 19]}"
      ]
     },
     "execution_count": 4,
     "metadata": {},
     "output_type": "execute_result"
    }
   ],
   "source": [
    "def factor(n):\n",
    "    return [i for i in range(1,n+1) if n%i==0]\n",
    "    # res = []\n",
    "    # for i in range(1,n+1):\n",
    "    #     if n%i==0:\n",
    "    #         res.append(i)\n",
    "    # return res\n",
    "\n",
    "l = list(range(1,20))\n",
    "d ={k:factor(k) for k in l}\n",
    "d"
   ]
  },
  {
   "cell_type": "markdown",
   "id": "04107271-9512-43f6-b48c-0736af8cdb4b",
   "metadata": {},
   "source": [
    "#### Create a dictionary from two lists, where one list contains keys and the other contains corresponding values."
   ]
  },
  {
   "cell_type": "code",
   "execution_count": 5,
   "id": "66443b50-ad49-49b9-9f6f-45d38ebdca98",
   "metadata": {},
   "outputs": [
    {
     "data": {
      "text/plain": [
       "{'umair': 1, 'zubair': 2, 'junaid': 3, 'uzair': 4, 'haroon': 5}"
      ]
     },
     "execution_count": 5,
     "metadata": {},
     "output_type": "execute_result"
    }
   ],
   "source": [
    "keys ='umair zubair junaid uzair haroon'.split()\n",
    "values = [1,2,3,4,5]\n",
    "\n",
    "d = {keys[i]:values[i] for i in range(min(len(keys),len(values)))}\n",
    "d"
   ]
  },
  {
   "cell_type": "markdown",
   "id": "44dac1f0-51b8-4c8a-b93d-989b2d34135c",
   "metadata": {},
   "source": [
    "#### Convert a dictionary of usernames and email addresses to a dictionary where the keys are the domains and the values are lists of usernames belonging to each domain."
   ]
  },
  {
   "cell_type": "code",
   "execution_count": 16,
   "id": "91096eb2-0e7c-4555-9602-d67df904cde5",
   "metadata": {},
   "outputs": [
    {
     "name": "stdout",
     "output_type": "stream",
     "text": [
      "{'example.com': ['user1', 'user2', 'user3', 'user4']}\n"
     ]
    }
   ],
   "source": [
    "#solved by chatgpt\n",
    "user_emails = {\n",
    "    'user1': 'user1@example.com',\n",
    "    'user2': 'user2@example.com',\n",
    "    'user3': 'user3@example.com',\n",
    "    'user4': 'user4@example.com'\n",
    "}\n",
    "domain_users = {email.split('@')[1]: [username for username, email in user_emails.items() if email.endswith('@' + email.split('@')[1])] for username, email in user_emails.items()}\n",
    "\n",
    "print(domain_users)"
   ]
  },
  {
   "cell_type": "markdown",
   "id": "a3ca92d5-6e36-420f-8164-6e96dbe20859",
   "metadata": {},
   "source": [
    "#### Given a list of tuples representing (name, age), create a dictionary where the keys are age groups (e.g., '0-10', '11-20', '21-30', etc.) and the values are lists of names belonging to each age group."
   ]
  },
  {
   "cell_type": "code",
   "execution_count": 20,
   "id": "16e98993-2117-49d5-b94b-43103aad402f",
   "metadata": {},
   "outputs": [
    {
     "data": {
      "text/plain": [
       "{'0-10': ['Esa', 'Abdullah'],\n",
       " '11-20': ['Ali', 'Faraz', 'Umar', 'Ahmad', 'Shahab', 'Idrees'],\n",
       " '21-30': ['Usama', 'Ibrahim', 'Adil', 'Bakar', 'Ishaq'],\n",
       " '31-40': ['Musa', 'Qasim', 'Adam']}"
      ]
     },
     "execution_count": 20,
     "metadata": {},
     "output_type": "execute_result"
    }
   ],
   "source": [
    "# def makelist(n):\n",
    "#     lOfInt = n.split('-')\n",
    "#     res = []\n",
    "#     for i in li:\n",
    "#         if i[1] in list(range(int(lOfInt[0]),int(lOfInt[1])+1)):\n",
    "#             res.append(i[0])\n",
    "#     return res\n",
    "        \n",
    "li = [('Ali',16),('Faraz',12),('Usama',26),('Umar',11),('Musa',32),('Yusuf',10),('Qasim',36),\n",
    "      ('Ibrahim',26),('Adil',22),('Esa',4),('Abdullah',9),('Ahmad',15),('Shahab',16),('Bakar',29),\n",
    "      ('Yaqoob',30),('Ishaq',24),('Idrees',18),('Adam',33)]\n",
    "ageGroups = ['0-10','11-20','21-30','31-40']\n",
    "# d = {k:makelist(k) for k in ageGroups} ===> here we created a function which returns a list and we call that function in \n",
    "# dictionary comprehension\n",
    "# in below method we create list inside the dictuonary comprehension using list comprehension\n",
    "d = {k:[i[0] for i in li if i[1] in range(int(k.split('-')[0]),int(k.split('-')[1])) ] for k in ageGroups}\n",
    "d"
   ]
  },
  {
   "cell_type": "markdown",
   "id": "d7ee3e51-7e59-4880-8c73-7e0b47d43f37",
   "metadata": {},
   "source": [
    "#### Create a dictionary from a list of words, where the keys are the words themselves and the values are their lengths, but exclude words with a length less than 5"
   ]
  },
  {
   "cell_type": "code",
   "execution_count": 8,
   "id": "a26ee282-db7d-4cc5-a907-5d1f467e5378",
   "metadata": {},
   "outputs": [
    {
     "data": {
      "text/plain": [
       "{'amrood': 6, 'angoor': 6, 'malta': 5, 'leechi': 6}"
      ]
     },
     "execution_count": 8,
     "metadata": {},
     "output_type": "execute_result"
    }
   ],
   "source": [
    "l = 'seb aam amrood angoor malta anar leechi'.split()\n",
    "\n",
    "d = {k:len(k) for k in l if len(k)>=5}\n",
    "d"
   ]
  },
  {
   "cell_type": "markdown",
   "id": "6e828348-2a09-4276-905e-6764eb0fb70f",
   "metadata": {},
   "source": [
    "#### Convert a dictionary of items and their prices to a dictionary where the keys are the prices and the values are lists of items with the same price."
   ]
  },
  {
   "cell_type": "code",
   "execution_count": 21,
   "id": "b2054b45-4791-4ba0-8d8b-1adc9897afd8",
   "metadata": {},
   "outputs": [
    {
     "data": {
      "text/plain": [
       "{100: ['daal', 'aata', 'masala', 'namak'],\n",
       " 150: ['chawal', 'cheeni', 'doodh'],\n",
       " 130: ['ghee'],\n",
       " 200: ['shakkar', 'elachi']}"
      ]
     },
     "execution_count": 21,
     "metadata": {},
     "output_type": "execute_result"
    }
   ],
   "source": [
    "# def listOfItems(n):\n",
    "#     res = []\n",
    "#     for i in narkh_naama.items():\n",
    "#         if i[1]==n:\n",
    "#             res.append(i[0])\n",
    "#     return res\n",
    "narkh_naama = {'daal':100,\n",
    "              'chawal':150,\n",
    "              'aata':100,\n",
    "              'cheeni':150,\n",
    "              'ghee':130,\n",
    "              'shakkar':200,\n",
    "              'masala':100,\n",
    "              'elachi':200,\n",
    "              'doodh':150,\n",
    "              'namak':100}\n",
    "#d = {k:listOfItems(k) for k in narkh_naama.values()} ===> creating list by using function\n",
    "d = {k:[i[0] for i in narkh_naama.items() if k==i[1]] for k in narkh_naama.values()}# creating list by using list comprehension\n",
    "d"
   ]
  },
  {
   "cell_type": "markdown",
   "id": "d07b2c09-9b5c-47eb-bc8c-8f31f6e1cdd8",
   "metadata": {},
   "source": [
    "#### Given a list of dictionaries representing people with 'name' and 'age' keys, create a dictionary where the keys are the ages and the values are lists of names belonging to each age group."
   ]
  },
  {
   "cell_type": "code",
   "execution_count": 23,
   "id": "02e3053c-22b8-49eb-ae70-fc96dfa86330",
   "metadata": {},
   "outputs": [
    {
     "data": {
      "text/plain": [
       "{28: ['Frank', 'Grace', 'Frank'],\n",
       " 33: ['Alice', 'Frank', 'Grace', 'Ivy', 'Henry', 'Alice', 'Grace'],\n",
       " 23: ['David', 'Grace', 'Henry', 'Ivy'],\n",
       " 39: ['Charlie', 'Alice', 'Alice'],\n",
       " 27: ['Ivy', 'Frank', 'David', 'Alice'],\n",
       " 24: ['Frank', 'Frank'],\n",
       " 36: ['Alice', 'Grace', 'Jack', 'Charlie'],\n",
       " 30: ['Charlie', 'Frank', 'Henry', 'Henry']}"
      ]
     },
     "execution_count": 23,
     "metadata": {},
     "output_type": "execute_result"
    }
   ],
   "source": [
    "def func(n):\n",
    "    res = []\n",
    "    for i in l:\n",
    "        if i['age']==n:\n",
    "            res.append(i['name'])\n",
    "    return res\n",
    "\n",
    "l = [{'name': 'Frank', 'age': 28}, {'name': 'Grace', 'age': 28}, {'name': 'Frank', 'age': 28},\n",
    "     {'name': 'Alice', 'age': 33}, {'name': 'Frank', 'age': 33}, {'name': 'Grace', 'age': 33}, \n",
    "     {'name': 'David', 'age': 23}, {'name': 'Ivy', 'age': 33}, {'name': 'Henry', 'age': 33}, \n",
    "     {'name': 'Alice', 'age': 33}, {'name': 'Grace', 'age': 33}, {'name': 'Charlie', 'age': 39},\n",
    "     {'name': 'Alice', 'age': 39}, {'name': 'Alice', 'age': 39}, {'name': 'Ivy', 'age': 27}, \n",
    "     {'name': 'Frank', 'age': 27}, {'name': 'David', 'age': 27}, {'name': 'Alice', 'age': 27}, \n",
    "     {'name': 'Frank', 'age': 24}, {'name': 'Frank', 'age': 24}, {'name': 'Alice', 'age': 36},\n",
    "     {'name': 'Grace', 'age': 36}, {'name': 'Jack', 'age': 36}, {'name': 'Charlie', 'age': 36},\n",
    "     {'name': 'Charlie', 'age': 30}, {'name': 'Frank', 'age': 30}, {'name': 'Henry', 'age': 30}, \n",
    "     {'name': 'Henry', 'age': 30}, {'name': 'Grace', 'age': 23}, {'name': 'Henry', 'age': 23}, \n",
    "     {'name': 'Ivy', 'age': 23}]\n",
    "\n",
    "#d = {k['age'] : func(k['age']) for k in l}\n",
    "d = {k['age'] : [i['name'] for i in l if k['age']==i['age']] for k in l}\n",
    "d"
   ]
  },
  {
   "cell_type": "code",
   "execution_count": 12,
   "id": "fa40ac69-038c-4d93-b4d5-dcd727f8bcdf",
   "metadata": {},
   "outputs": [
    {
     "data": {
      "text/plain": [
       "True"
      ]
     },
     "execution_count": 12,
     "metadata": {},
     "output_type": "execute_result"
    }
   ],
   "source": [
    "str = 'ahayava'\n",
    "str.endswith('va')"
   ]
  },
  {
   "cell_type": "code",
   "execution_count": null,
   "id": "bc0bdcdf-bb60-4e19-b690-a2459ce683e2",
   "metadata": {},
   "outputs": [],
   "source": []
  }
 ],
 "metadata": {
  "kernelspec": {
   "display_name": "Python 3 (ipykernel)",
   "language": "python",
   "name": "python3"
  },
  "language_info": {
   "codemirror_mode": {
    "name": "ipython",
    "version": 3
   },
   "file_extension": ".py",
   "mimetype": "text/x-python",
   "name": "python",
   "nbconvert_exporter": "python",
   "pygments_lexer": "ipython3",
   "version": "3.11.7"
  },
  "widgets": {
   "application/vnd.jupyter.widget-state+json": {
    "state": {},
    "version_major": 2,
    "version_minor": 0
   }
  }
 },
 "nbformat": 4,
 "nbformat_minor": 5
}
