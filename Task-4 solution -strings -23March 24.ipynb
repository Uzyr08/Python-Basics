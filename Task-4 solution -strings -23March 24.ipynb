{
 "cells": [
  {
   "cell_type": "markdown",
   "id": "1f4c0ad0",
   "metadata": {},
   "source": [
    "## Question no.1"
   ]
  },
  {
   "cell_type": "markdown",
   "id": "a069ca31",
   "metadata": {},
   "source": [
    "1. Write a Python program to remove unwanted characters from a given string.\n",
    "\n",
    "Hint: # Specify a list of unwanted characters\n",
    "\n",
    "unwanted_chars = [\"#\", \"*\", \"!\", \"^\", \"%\"]\n",
    "\n",
    "Sample Output:\n",
    "\n",
    "Original String : Pyth*^on Exercis^es\n",
    "\n",
    "After removing unwanted characters:\n",
    "\n",
    "Python Exercises\n",
    "\n",
    "Original String : A%^!B#*CD\n",
    "\n",
    "After removing unwanted characters:\n",
    "\n",
    "ABCD"
   ]
  },
  {
   "cell_type": "code",
   "execution_count": 1,
   "id": "88094974",
   "metadata": {},
   "outputs": [
    {
     "name": "stdout",
     "output_type": "stream",
     "text": [
      "Python Exercises\n",
      "ABCD\n"
     ]
    }
   ],
   "source": [
    "unwanted_chars = [\"#\", \"*\", \"!\", \"^\", \"%\"]\n",
    "\n",
    "str1 = 'Pyth*^on Exercis^es'\n",
    "str2 = 'A%^!B#*CD'\n",
    "\n",
    "new_str1=''\n",
    "new_str2=''\n",
    "\n",
    "for i in str1:\n",
    "    if i not in unwanted_chars:\n",
    "        new_str1 +=i\n",
    "print(new_str1)\n",
    "\n",
    "for i in str2:\n",
    "    if i not in unwanted_chars:\n",
    "        new_str2 +=i\n",
    "print(new_str2)\n",
    "    \n",
    "\n"
   ]
  },
  {
   "cell_type": "markdown",
   "id": "243da138",
   "metadata": {},
   "source": [
    "## Question no .2"
   ]
  },
  {
   "cell_type": "markdown",
   "id": "c3497869",
   "metadata": {},
   "source": [
    " Write a Python program to remove duplicate words from a  string."
   ]
  },
  {
   "cell_type": "code",
   "execution_count": 3,
   "id": "6460b7c9",
   "metadata": {},
   "outputs": [
    {
     "name": "stdout",
     "output_type": "stream",
     "text": [
      "Before removing duplicate words\n",
      "['I', 'love', 'love', 'to', 'eat', 'pizza', 'pizza']\n",
      "After removing duplicate words\n",
      "I love to eat pizza\n"
     ]
    }
   ],
   "source": [
    "str = \"I love love to eat pizza pizza\"\n",
    "split = str.split(' ')\n",
    "print('Before removing duplicate words')\n",
    "print(split)\n",
    "unique_list = []\n",
    "\n",
    "for i in range(len(split)):\n",
    "    if split[i] not in unique_list:\n",
    "        unique_list.append(split[i])\n",
    "        \n",
    "unique_str = ' '.join(unique_list)\n",
    "print('After removing duplicate words')\n",
    "print(unique_str)"
   ]
  },
  {
   "cell_type": "markdown",
   "id": "b9910bbd",
   "metadata": {},
   "source": [
    "## Question no.3"
   ]
  },
  {
   "cell_type": "markdown",
   "id": "3c099d17",
   "metadata": {},
   "source": [
    "\n",
    "Write a Python program to extract numbers from a given string.\n",
    "\n",
    "Sample Output:\n",
    "\n",
    "Original string: red 12 black 45 green\n",
    "\n",
    "Extract numbers from the said string: [12, 45]"
   ]
  },
  {
   "cell_type": "code",
   "execution_count": 3,
   "id": "3c6baa41",
   "metadata": {},
   "outputs": [
    {
     "data": {
      "text/plain": [
       "['12', '45']"
      ]
     },
     "execution_count": 3,
     "metadata": {},
     "output_type": "execute_result"
    }
   ],
   "source": [
    "string = 'red 12 black 45 green'\n",
    "str_list = string.split(' ')\n",
    "\n",
    "num_list = []\n",
    "\n",
    "for i in str_list:\n",
    "    if i.isdigit():\n",
    "        num_list.append(i)\n",
    "    \n",
    "num_list"
   ]
  },
  {
   "cell_type": "markdown",
   "id": "f0088771",
   "metadata": {},
   "source": [
    "## Question no.4"
   ]
  },
  {
   "cell_type": "markdown",
   "id": "026ac0fc",
   "metadata": {},
   "source": [
    "Write a Python program to find the common values that appear in two given strings.\n",
    "\n",
    "Original strings:\n",
    "\n",
    "Python3\n",
    "\n",
    "Python2.7\n",
    "\n",
    "Intersection of two said String:\n",
    "\n",
    "Python"
   ]
  },
  {
   "cell_type": "code",
   "execution_count": 4,
   "id": "82a8f0fb",
   "metadata": {},
   "outputs": [
    {
     "data": {
      "text/plain": [
       "'Python'"
      ]
     },
     "execution_count": 4,
     "metadata": {},
     "output_type": "execute_result"
    }
   ],
   "source": [
    "str1 = 'Python3'\n",
    "str2 = 'Python2.7'\n",
    "str3 = ''\n",
    "for i in str1:\n",
    "    for j in str2:\n",
    "        if i==j:\n",
    "            str3+=i\n",
    "str3"
   ]
  },
  {
   "cell_type": "markdown",
   "id": "82a89a4a",
   "metadata": {},
   "source": [
    "## Question no.5"
   ]
  },
  {
   "cell_type": "markdown",
   "id": "cdd3d5fd",
   "metadata": {},
   "source": [
    "Write a Python program to delete all occurrences of a specified character"
   ]
  },
  {
   "cell_type": "code",
   "execution_count": 5,
   "id": "e76bfc66",
   "metadata": {},
   "outputs": [
    {
     "data": {
      "text/plain": [
       "'How are you Are you ok'"
      ]
     },
     "execution_count": 5,
     "metadata": {},
     "output_type": "execute_result"
    }
   ],
   "source": [
    "string = 'How are you? Are you ok???'\n",
    "string2 = string.replace('?','')\n",
    "\n",
    "string2"
   ]
  },
  {
   "cell_type": "markdown",
   "id": "0b926ba5",
   "metadata": {},
   "source": [
    "## Question no.6"
   ]
  },
  {
   "cell_type": "markdown",
   "id": "761cae7c",
   "metadata": {},
   "source": [
    "Write a Python program to find the smallest and largest words in a given string.\n",
    "\n",
    "Original Strings:\n",
    "\n",
    "Write a Java program to sort an array of given integers using Quick sort\n",
    "\n",
    "Algorithm.\n",
    "\n",
    "Smallest word: a\n",
    "\n",
    "Largest word: Algorithm."
   ]
  },
  {
   "cell_type": "code",
   "execution_count": 6,
   "id": "e482a691",
   "metadata": {},
   "outputs": [
    {
     "ename": "NameError",
     "evalue": "name 'smallest' is not defined",
     "output_type": "error",
     "traceback": [
      "\u001b[1;31m---------------------------------------------------------------------------\u001b[0m",
      "\u001b[1;31mNameError\u001b[0m                                 Traceback (most recent call last)",
      "Cell \u001b[1;32mIn[6], line 8\u001b[0m\n\u001b[0;32m      6\u001b[0m     \u001b[38;5;28;01mif\u001b[39;00m \u001b[38;5;28mlen\u001b[39m(str_list[i])\u001b[38;5;241m>\u001b[39m\u001b[38;5;28mlen\u001b[39m(str_list[largest]):\n\u001b[0;32m      7\u001b[0m         largest \u001b[38;5;241m=\u001b[39m i\n\u001b[1;32m----> 8\u001b[0m     \u001b[38;5;28;01mif\u001b[39;00m \u001b[38;5;28mlen\u001b[39m(str_list[i])\u001b[38;5;241m<\u001b[39m\u001b[38;5;28mlen\u001b[39m(str_list[\u001b[43msmallest\u001b[49m]):\n\u001b[0;32m      9\u001b[0m         smallest \u001b[38;5;241m=\u001b[39m i\n\u001b[0;32m     10\u001b[0m \u001b[38;5;28mprint\u001b[39m(\u001b[38;5;124mf\u001b[39m\u001b[38;5;124m'\u001b[39m\u001b[38;5;124mthe largest word in the given string is \u001b[39m\u001b[38;5;132;01m{\u001b[39;00mstr_list[largest]\u001b[38;5;132;01m}\u001b[39;00m\u001b[38;5;124m'\u001b[39m)\n",
      "\u001b[1;31mNameError\u001b[0m: name 'smallest' is not defined"
     ]
    }
   ],
   "source": [
    "string = 'Write a Java program to sort an array of given integers using Quick sort Algorithm'\n",
    "str_list = string.split(' ')\n",
    "largest = 0\n",
    "\n",
    "for i in range(len(str_list)):\n",
    "    if len(str_list[i])>len(str_list[largest]):\n",
    "        largest = i\n",
    "    if len(str_list[i])<len(str_list[smallest]):\n",
    "        smallest = i\n",
    "print(f'the largest word in the given string is {str_list[largest]}')\n",
    "print(f'the smallest word in the given string is {str_list[smallest]}')\n",
    "   "
   ]
  },
  {
   "cell_type": "markdown",
   "id": "8046c67a",
   "metadata": {},
   "source": [
    "## Question no.7"
   ]
  },
  {
   "cell_type": "markdown",
   "id": "d6d01bbd",
   "metadata": {},
   "source": [
    "Write a Python program to count Uppercase, Lowercase, special characters and\n",
    "numeric values in a given string."
   ]
  },
  {
   "cell_type": "code",
   "execution_count": null,
   "id": "792cb35a",
   "metadata": {},
   "outputs": [],
   "source": [
    "from string import punctuation\n",
    "str = input('enter a string\\n')\n",
    "upperCount = 0\n",
    "lowerCount = 0\n",
    "specialCount = 0\n",
    "numCount = 0\n",
    "for i in str:\n",
    "    if i.isupper():\n",
    "        upperCount+=1\n",
    "    elif i.islower():\n",
    "        lowerCount+=1\n",
    "    elif i in punctuation:\n",
    "        specialCount+=1\n",
    "    elif i.isdigit():\n",
    "        numCount+=1\n",
    "print(f'upperCount = {upperCount}\\nlowerCount = {lowerCount}\\nspecialCount = {specialCount}\\nnumCount = {numCount}')\n"
   ]
  },
  {
   "cell_type": "markdown",
   "id": "3e05c760",
   "metadata": {},
   "source": [
    "## Question no.8"
   ]
  },
  {
   "cell_type": "markdown",
   "id": "d1c1c11d",
   "metadata": {},
   "source": [
    "Write a Python program to remove spaces from a given string."
   ]
  },
  {
   "cell_type": "code",
   "execution_count": null,
   "id": "bfe78dcc",
   "metadata": {},
   "outputs": [],
   "source": [
    "str1 = 'A 3 ser op r ce'\n",
    "str2 = 'a b c'\n",
    "print(str1.replace(' ',''))\n",
    "print(str2.replace(' ',''))"
   ]
  },
  {
   "cell_type": "markdown",
   "id": "f7279bb2",
   "metadata": {},
   "source": [
    "## Question no.9"
   ]
  },
  {
   "cell_type": "markdown",
   "id": "cafbebc1",
   "metadata": {},
   "source": [
    "Write a Python program to count and display vowels in text"
   ]
  },
  {
   "cell_type": "code",
   "execution_count": null,
   "id": "94926c77",
   "metadata": {},
   "outputs": [],
   "source": [
    "vowel = 'aeiouAEIOU'\n",
    "instr = input('enter a string\\n')\n",
    "\n",
    "count = 0\n",
    "for i in instr:\n",
    "    if i in vowel:\n",
    "        count+=1\n",
    "print(f'there are {count} vowels in the string')"
   ]
  },
  {
   "cell_type": "markdown",
   "id": "8b0c92c6",
   "metadata": {},
   "source": [
    "## Question no.10"
   ]
  },
  {
   "cell_type": "markdown",
   "id": "8f41f1d2",
   "metadata": {},
   "source": [
    ".Write a Python program to swap commas and dots in a string"
   ]
  },
  {
   "cell_type": "code",
   "execution_count": null,
   "id": "71660ace",
   "metadata": {},
   "outputs": [],
   "source": [
    "str = input('enter a string\\n')\n",
    "str2=''\n",
    "for i in str:\n",
    "    if i==',':\n",
    "        str2+='.'\n",
    "    elif i=='.':\n",
    "        str2+=','  \n",
    "    else:\n",
    "        str2+=i\n",
    "str2"
   ]
  },
  {
   "cell_type": "markdown",
   "id": "e52312cc",
   "metadata": {},
   "source": [
    "## Question no.11"
   ]
  },
  {
   "cell_type": "markdown",
   "id": "e1a61cb1",
   "metadata": {},
   "source": [
    "Write a Python program to convert a given string into a list of words"
   ]
  },
  {
   "cell_type": "code",
   "execution_count": null,
   "id": "6b6c888c",
   "metadata": {},
   "outputs": [],
   "source": [
    "instr = input('enter a string\\n')\n",
    "list = instr.split(' ')\n",
    "list"
   ]
  },
  {
   "cell_type": "markdown",
   "id": "27b06000",
   "metadata": {},
   "source": [
    "## Question no.12"
   ]
  },
  {
   "cell_type": "markdown",
   "id": "10bc9f9a",
   "metadata": {},
   "source": [
    "Write a Python program to print the following numbers up to 2 decimal places"
   ]
  },
  {
   "cell_type": "code",
   "execution_count": null,
   "id": "ae532e1e",
   "metadata": {},
   "outputs": [],
   "source": [
    "num = eval(input('enter a float number\\n'))\n",
    "print(f'res is {num:.2f}')"
   ]
  },
  {
   "cell_type": "markdown",
   "id": "de5148b3",
   "metadata": {},
   "source": [
    "## Question no.13"
   ]
  },
  {
   "cell_type": "markdown",
   "id": "dda8a0bb",
   "metadata": {},
   "source": [
    "Write a Python program to count the number of words and their respective \n",
    "frequencies (count) in a given sentence"
   ]
  },
  {
   "cell_type": "code",
   "execution_count": null,
   "id": "4210fc65",
   "metadata": {
    "scrolled": true
   },
   "outputs": [],
   "source": [
    "instr = input('Enter a string\\n')\n",
    "l = instr.split(' ')\n",
    "aux = []\n",
    "count=len(l)\n",
    "print(f'there are total {count} words ')\n",
    "\n",
    "for i in range(len(l)):\n",
    "    if l[i] not in aux:\n",
    "        word = l[i]\n",
    "\n",
    "        count_word = 0\n",
    "    \n",
    "        for j in range(len(l)):\n",
    "            if l[i]==l[j]:\n",
    "                count_word+=1\n",
    "        aux.append(word)\n",
    "        print(f'\"{word}\" appears {count_word} times')\n",
    "        \n",
    "        \n",
    "    \n"
   ]
  },
  {
   "cell_type": "code",
   "execution_count": 2,
   "id": "98abdb3d",
   "metadata": {},
   "outputs": [
    {
     "name": "stdout",
     "output_type": "stream",
     "text": [
      "enter a string\n",
      "uzair fazal mudassir uzair mudassir uzair fazal shadman \n",
      "uzair appears 3 time(s)\n",
      "fazal appears 2 time(s)\n",
      "mudassir appears 2 time(s)\n",
      "shadman appears 1 time(s)\n"
     ]
    }
   ],
   "source": [
    "a = input('enter a string\\n')\n",
    "temp = ''\n",
    "for i in a.split():\n",
    "    if i not in temp:\n",
    "        freq = a.count(i)\n",
    "        print(f'{i} appears {freq} time(s)')\n",
    "        temp+=i"
   ]
  },
  {
   "cell_type": "code",
   "execution_count": null,
   "id": "d9207d4f",
   "metadata": {},
   "outputs": [],
   "source": []
  }
 ],
 "metadata": {
  "kernelspec": {
   "display_name": "Python 3 (ipykernel)",
   "language": "python",
   "name": "python3"
  },
  "language_info": {
   "codemirror_mode": {
    "name": "ipython",
    "version": 3
   },
   "file_extension": ".py",
   "mimetype": "text/x-python",
   "name": "python",
   "nbconvert_exporter": "python",
   "pygments_lexer": "ipython3",
   "version": "3.11.7"
  },
  "widgets": {
   "application/vnd.jupyter.widget-state+json": {
    "state": {},
    "version_major": 2,
    "version_minor": 0
   }
  }
 },
 "nbformat": 4,
 "nbformat_minor": 5
}
