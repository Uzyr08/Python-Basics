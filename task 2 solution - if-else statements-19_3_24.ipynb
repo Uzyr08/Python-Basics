{
 "cells": [
  {
   "cell_type": "markdown",
   "id": "f2603482",
   "metadata": {},
   "source": [
    "# Question no.1\n"
   ]
  },
  {
   "cell_type": "markdown",
   "id": "68ff5127",
   "metadata": {},
   "source": [
    "A student will not be allowed to sit in exam if his/her attendance is less than 75%.\n",
    "Take following input from user\n",
    "Number of classes held\n",
    "Number of classes attended.\n",
    "And print\n",
    "percentage of class attended\n",
    "Is student is allowed to sit in exam or not.\n"
   ]
  },
  {
   "cell_type": "code",
   "execution_count": 3,
   "id": "98d75ea6",
   "metadata": {},
   "outputs": [
    {
     "name": "stdout",
     "output_type": "stream",
     "text": [
      "enter the number of total classes: 100\n",
      "enter the number of classes you attended: 76\n",
      "your attendence is 76.0 percent\n",
      "You are allowed to sit in exam\n"
     ]
    }
   ],
   "source": [
    "total_classes = int(input(\"enter the number of total classes: \"))\n",
    "classes_attended = int(input(\"enter the number of classes you attended: \"))\n",
    "perc = (classes_attended/total_classes)*100\n",
    "print(f'your attendence is {perc} percent')\n",
    "\n",
    "if perc>75:\n",
    "    print('You are allowed to sit in exam')\n",
    "else:\n",
    "    print('You are not allowed to sit in exam')"
   ]
  },
  {
   "cell_type": "markdown",
   "id": "c8692076",
   "metadata": {},
   "source": [
    "# Question no.2"
   ]
  },
  {
   "cell_type": "markdown",
   "id": "334c77fc",
   "metadata": {},
   "source": [
    "Modify the above question to allow student to sit if he/she has medical cause. Ask user if he/she has medical cause or not ( 'Y' or 'N' ) and print accordingly."
   ]
  },
  {
   "cell_type": "code",
   "execution_count": 7,
   "id": "b8db09b8",
   "metadata": {},
   "outputs": [
    {
     "name": "stdout",
     "output_type": "stream",
     "text": [
      "enter the number of total classes: 100\n",
      "enter the number of classes you attended: 60\n",
      "Is there any medical cause of your absentees? enter Y for yes and N for no: y\n",
      "your attendence is 60.0 percent\n",
      "You are allowed to sit in exam. You got consession for medical issue\n"
     ]
    }
   ],
   "source": [
    "total_classes = int(input(\"enter the number of total classes: \"))\n",
    "classes_attended = int(input(\"enter the number of classes you attended: \"))\n",
    "med = input('Is there any medical cause of your absentees? enter Y for yes and N for no: ').upper()\n",
    "\n",
    "perc = (classes_attended/total_classes)*100\n",
    "print(f'your attendence is {perc} percent')\n",
    "\n",
    "if perc>=75:\n",
    "    print('You are allowed to sit in exam')\n",
    "else:\n",
    "    if med=='Y':\n",
    "        print('You are allowed to sit in exam. You got consession for medical issue')\n",
    "    elif med=='N':\n",
    "        print('You are not allowed to sit in exam')"
   ]
  },
  {
   "cell_type": "markdown",
   "id": "93bb8a85",
   "metadata": {},
   "source": [
    "# Question no.3"
   ]
  },
  {
   "cell_type": "markdown",
   "id": "696fd06f",
   "metadata": {},
   "source": [
    "A shop will give discount of 10% if the cost of purchased quantity is more than 1000.\n",
    "     Ask user for quantity\n",
    "    Suppose, one unit will cost 100.\n",
    "     Judge and print total cost for user.\n"
   ]
  },
  {
   "cell_type": "code",
   "execution_count": 12,
   "id": "4a3fae29",
   "metadata": {},
   "outputs": [
    {
     "name": "stdout",
     "output_type": "stream",
     "text": [
      "How many items you wanna purchase? 10\n",
      "You got no discount\n",
      "total bill:  1000 \n",
      "discount:  0 \n",
      "net amount:  1000\n"
     ]
    }
   ],
   "source": [
    "quantity = int(input('How many items you wanna purchase? '))\n",
    "\n",
    "price = quantity*100\n",
    "\n",
    "if price>1000:\n",
    "    print('you got discount')\n",
    "    discount = (10/100)*price\n",
    "else:\n",
    "    print('You got no discount')\n",
    "    discount = 0\n",
    "    \n",
    "bill=price-discount\n",
    "print('total bill: ',price,'\\ndiscount: ',discount,'\\nnet amount: ',bill)"
   ]
  },
  {
   "cell_type": "markdown",
   "id": "34bfaffc",
   "metadata": {},
   "source": [
    "# Question no.4"
   ]
  },
  {
   "cell_type": "markdown",
   "id": "358d9478",
   "metadata": {},
   "source": [
    "A school has following rules for grading system:\n",
    "a. Below 25 - F\n",
    "b. 25 to 45 - E\n",
    "c. 45 to 50 - D\n",
    "d. 50 to 60 - C\n",
    "e. 60 to 80 - B\n",
    "f. Above 80 - A\n",
    "Ask user to enter marks and print the corresponding grade.\n"
   ]
  },
  {
   "cell_type": "code",
   "execution_count": 2,
   "id": "7d9be666",
   "metadata": {},
   "outputs": [
    {
     "name": "stdout",
     "output_type": "stream",
     "text": [
      "enter your marks: 71\n",
      "You got B grade\n"
     ]
    }
   ],
   "source": [
    "marks = int(input('enter your marks: '))\n",
    "if marks>80:\n",
    "    print('You got A grade')\n",
    "else:\n",
    "    if marks>=60:\n",
    "        print('You got B grade')\n",
    "    else:\n",
    "        if marks>=50:\n",
    "            print('You got C grade')\n",
    "        else:\n",
    "            if marks>=45:\n",
    "                print('You got D grade')\n",
    "            else:\n",
    "                if marks>=25:\n",
    "                    print('You got E grade')\n",
    "                else:\n",
    "                    if marks<25:\n",
    "                        print('You got F grade')"
   ]
  },
  {
   "cell_type": "code",
   "execution_count": null,
   "id": "c348da62",
   "metadata": {},
   "outputs": [],
   "source": []
  },
  {
   "cell_type": "code",
   "execution_count": null,
   "id": "f36fbcb7-b28e-473c-b215-4f3f89699674",
   "metadata": {},
   "outputs": [],
   "source": []
  }
 ],
 "metadata": {
  "kernelspec": {
   "display_name": "Python 3 (ipykernel)",
   "language": "python",
   "name": "python3"
  },
  "language_info": {
   "codemirror_mode": {
    "name": "ipython",
    "version": 3
   },
   "file_extension": ".py",
   "mimetype": "text/x-python",
   "name": "python",
   "nbconvert_exporter": "python",
   "pygments_lexer": "ipython3",
   "version": "3.11.7"
  },
  "widgets": {
   "application/vnd.jupyter.widget-state+json": {
    "state": {},
    "version_major": 2,
    "version_minor": 0
   }
  }
 },
 "nbformat": 4,
 "nbformat_minor": 5
}
