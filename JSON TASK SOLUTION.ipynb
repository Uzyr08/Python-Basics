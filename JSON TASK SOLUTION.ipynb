{
 "cells": [
  {
   "cell_type": "markdown",
   "id": "0e2b5e0b-2bc9-4968-89af-bc95ec393e18",
   "metadata": {},
   "source": [
    "### Q 1: Convert the following dictionary into JSON format\r\n",
    "data = {\"key1\" : \"value1\", \"key2\" : \"value2\"}\r\n"
   ]
  },
  {
   "cell_type": "code",
   "execution_count": 1,
   "id": "86e82194-5082-4476-b1df-b1dbc1f56ab0",
   "metadata": {},
   "outputs": [
    {
     "name": "stdout",
     "output_type": "stream",
     "text": [
      "<class 'str'>\n",
      "{\"key1\": \"value1\", \"key2\": \"value2\"}\n"
     ]
    }
   ],
   "source": [
    "import json\n",
    "data = {\"key1\" : \"value1\", \"key2\" : \"value2\"}\n",
    "jsonData = json.dumps(data)\n",
    "print(type(jsonData))\n",
    "print(jsonData)"
   ]
  },
  {
   "cell_type": "markdown",
   "id": "95f18bb1-e3cd-4349-b791-daa0890c98dc",
   "metadata": {},
   "source": [
    "### Q2: Access the value of key2 from the following JSON\r",
    "\r\n",
    "\r\n",
    "sampleJson = \"\"\"{\"key1\": \"value1\", \"key2\": \"value2\"}\"\"\"\r\n"
   ]
  },
  {
   "cell_type": "code",
   "execution_count": 3,
   "id": "14e6ad8a-0acd-4287-8d1e-ecabde1fe414",
   "metadata": {},
   "outputs": [
    {
     "name": "stdout",
     "output_type": "stream",
     "text": [
      "value2\n"
     ]
    }
   ],
   "source": [
    "import json\n",
    "\n",
    "sampleJson = \"\"\"{\"key1\": \"value1\", \"key2\": \"value2\"}\"\"\"\n",
    "sampleDict = json.loads(sampleJson)\n",
    "print(sampleDict['key2'])"
   ]
  },
  {
   "cell_type": "markdown",
   "id": "b42c6c12-de37-417e-b671-6e1172f2ae5d",
   "metadata": {},
   "source": [
    "### Q3: PrettyPrint following JSON data\r\n",
    "PrettyPrint following JSON data with indent level 2 and key-value separators should be (\";\", \" => \"). You can specify separators = (\";\", \"=>\") as additional argument to json.dumps method to pretty print the json data.\r\n",
    "sampleJson = {\"key1\": \"value1\", \"key2\": \"value2\"}\r\n"
   ]
  },
  {
   "cell_type": "code",
   "execution_count": 11,
   "id": "3da54a7b-d75a-4af8-9061-80cb7867dc0d",
   "metadata": {},
   "outputs": [
    {
     "name": "stdout",
     "output_type": "stream",
     "text": [
      "{\n",
      "    \"key1\"=>\"value1\";\n",
      "    \"key2\"=>\"value2\"\n",
      "}\n"
     ]
    }
   ],
   "source": [
    "sampleDict = {\"key1\": \"value1\", \"key2\": \"value2\"}\n",
    "samplejson = json.dumps(sampleDict , indent = 4 ,separators = (';','=>'))\n",
    "print(samplejson)"
   ]
  },
  {
   "cell_type": "code",
   "execution_count": null,
   "id": "297afb17-1a8e-4af6-b5c6-e9769597c862",
   "metadata": {},
   "outputs": [],
   "source": []
  }
 ],
 "metadata": {
  "kernelspec": {
   "display_name": "Python 3 (ipykernel)",
   "language": "python",
   "name": "python3"
  },
  "language_info": {
   "codemirror_mode": {
    "name": "ipython",
    "version": 3
   },
   "file_extension": ".py",
   "mimetype": "text/x-python",
   "name": "python",
   "nbconvert_exporter": "python",
   "pygments_lexer": "ipython3",
   "version": "3.11.7"
  },
  "widgets": {
   "application/vnd.jupyter.widget-state+json": {
    "state": {},
    "version_major": 2,
    "version_minor": 0
   }
  }
 },
 "nbformat": 4,
 "nbformat_minor": 5
}
