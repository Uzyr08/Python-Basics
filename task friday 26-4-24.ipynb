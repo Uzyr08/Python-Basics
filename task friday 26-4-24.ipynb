{
 "cells": [
  {
   "cell_type": "code",
   "execution_count": 7,
   "id": "da23e347-4c63-4e3a-940e-ade60e6c8994",
   "metadata": {},
   "outputs": [],
   "source": [
    "num_list = [1,2,3,4]\n",
    "num_tuple = (0,1,2,3)\n",
    "str_list = list(map(lambda x : str(x),num_list))\n",
    "str_tuple = tuple(map(lambda x : str(x),num_tuple))"
   ]
  },
  {
   "cell_type": "code",
   "execution_count": 8,
   "id": "4707fa2f-3658-46a6-9ac1-37254a973466",
   "metadata": {},
   "outputs": [
    {
     "name": "stdout",
     "output_type": "stream",
     "text": [
      "['1', '2', '3', '4']\n",
      "('0', '1', '2', '3')\n"
     ]
    }
   ],
   "source": [
    "print(str_list)\n",
    "print(str_tuple)"
   ]
  },
  {
   "cell_type": "code",
   "execution_count": 11,
   "id": "d6fecf5c-a89a-4cf5-b706-c16090bb2658",
   "metadata": {},
   "outputs": [
    {
     "name": "stdout",
     "output_type": "stream",
     "text": [
      "list of names of students\n",
      "['fahad', 'Imad', 'Meraj', 'Hammad']\n",
      "list of dates of birth of students\n",
      "['15/5/2002', '17/5/2002', '16/2/1999', '25/9/1998']\n",
      "list of Weights of students\n",
      "['35kg', '37kg', '70kg', '79kg']\n"
     ]
    }
   ],
   "source": [
    "studentData = [('fahad','15/5/2002','35kg'),('Imad','17/5/2002','37kg'),('Meraj','16/2/1999','70kg'),('Hammad','25/9/1998','79kg')]\n",
    "studentName = list(map(lambda x : x[0] ,studentData))\n",
    "studentDOB = list(map(lambda x : x[1] ,studentData))\n",
    "studentWeight = list(map(lambda x : x[2] ,studentData))\n",
    "print(f'list of names of students\\n{studentName}')\n",
    "print(f'list of dates of birth of students\\n{studentDOB}')\n",
    "print(f'list of Weights of students\\n{studentWeight}')\n"
   ]
  },
  {
   "cell_type": "code",
   "execution_count": 12,
   "id": "52636851-dd1a-4456-b46c-fc70082130f4",
   "metadata": {},
   "outputs": [
    {
     "data": {
      "text/plain": [
       "['APPLE', 'GUAVA', 'GRAPES', 'ORANGES', 'WATERMELON', 'MANGO']"
      ]
     },
     "execution_count": 12,
     "metadata": {},
     "output_type": "execute_result"
    }
   ],
   "source": [
    "changeCase = lambda x : x.upper()\n",
    "originalList = ['apple','guava','grapes','oranges','watermelon','mango']\n",
    "changedList = list(map(changeCase,originalList))\n",
    "changedList"
   ]
  },
  {
   "cell_type": "code",
   "execution_count": 15,
   "id": "e57789ae-0560-49d3-b51c-31510cd2a603",
   "metadata": {},
   "outputs": [
    {
     "name": "stdout",
     "output_type": "stream",
     "text": [
      "[10, 400, 27000, 2560000, 312500000, 46656000000, 8235430000000, 1677721600000000, 387420489000000000, 100000000000000000000]\n"
     ]
    }
   ],
   "source": [
    "basesNum = [10,20,30,40,50,60,70,80,90,100]\n",
    "index = [1,2,3,4,5,6,7,8,9,10]\n",
    "power = lambda x : basesNum[x-1]**x\n",
    "res = list(map(power , index))\n",
    "print(res)"
   ]
  },
  {
   "cell_type": "markdown",
   "id": "26cc229a-0e06-484e-b482-fb5d7219721a",
   "metadata": {},
   "source": [
    "#### Removing Stop Words"
   ]
  },
  {
   "cell_type": "code",
   "execution_count": 26,
   "id": "1769b211-aa55-4cae-a00b-890d3c4b404d",
   "metadata": {},
   "outputs": [
    {
     "name": "stdout",
     "output_type": "stream",
     "text": [
      "size of text before removing punctuations\n",
      " 1777\n",
      "['I', 'was', 'at', 'the', 'park', 'today', 'He', 'likes', 'to', 'play', 'basketball', 'every', 'evening', 'She', 'went', 'to', 'the', 'store', 'to', 'buy', 'some', 'groceries', 'They', 'were', 'watching', 'a', 'movie', 'last', 'night', 'We', 'should', 'go', 'out', 'for', 'dinner', 'sometime', 'The', 'weather', 'is', 'nice', 'today', 'isnt', 'it', 'He', 'doesnt', 'like', 'to', 'eat', 'vegetables', 'She', 'is', 'always', 'busy', 'with', 'her', 'work', 'I', 'dont', 'think', 'we', 'should', 'go', 'there', 'They', 'have', 'been', 'living', 'in', 'that', 'house', 'for', 'years', 'We', 'need', 'to', 'finish', 'this', 'project', 'by', 'tomorrow', 'He', 'cant', 'come', 'to', 'the', 'party', 'this', 'weekend', 'She', 'said', 'she', 'would', 'call', 'me', 'later', 'I', 'didnt', 'see', 'him', 'at', 'the', 'meeting', 'yesterday', 'They', 'went', 'on', 'vacation', 'last', 'month', 'We', 'have', 'to', 'wake', 'up', 'early', 'tomorrow', 'The', 'movie', 'we', 'watched', 'last', 'night', 'was', 'amazing', 'He', 'is', 'going', 'to', 'visit', 'his', 'family', 'next', 'week', 'She', 'doesnt', 'like', 'spicy', 'food', 'I', 'cant', 'believe', 'its', 'already', 'April', 'They', 'are', 'going', 'to', 'the', 'beach', 'this', 'summer', 'We', 'should', 'go', 'for', 'a', 'walk', 'in', 'the', 'evening', 'He', 'said', 'he', 'was', 'too', 'tired', 'to', 'go', 'out', 'She', 'doesnt', 'want', 'to', 'go', 'to', 'the', 'concert', 'I', 'think', 'its', 'going', 'to', 'rain', 'tomorrow', 'They', 'have', 'a', 'dog', 'named', 'Max', 'We', 'went', 'to', 'the', 'museum', 'last', 'weekend', 'The', 'book', 'Im', 'reading', 'is', 'really', 'interesting', 'He', 'doesnt', 'have', 'time', 'to', 'play', 'video', 'games', 'Shes', 'not', 'feeling', 'well', 'today', 'I', 'didnt', 'expect', 'to', 'see', 'you', 'here', 'They', 'are', 'planning', 'a', 'trip', 'to', 'Europe', 'We', 'need', 'to', 'buy', 'groceries', 'on', 'our', 'way', 'home', 'He', 'forgot', 'to', 'bring', 'his', 'umbrella', 'She', 'has', 'a', 'lot', 'of', 'work', 'to', 'do', 'this', 'week', 'I', 'dont', 'like', 'the', 'taste', 'of', 'mushrooms', 'They', 'went', 'skiing', 'during', 'the', 'winter', 'break', 'We', 'should', 'go', 'to', 'the', 'gym', 'more', 'often', 'He', 'doesnt', 'have', 'a', 'car', 'so', 'he', 'walks', 'everywhere', 'Shes', 'going', 'to', 'study', 'abroad', 'next', 'semester', 'I', 'didnt', 'see', 'that', 'coming', 'Theyre', 'having', 'a', 'party', 'next', 'weekend', 'We', 'should', 'invite', 'them', 'over', 'for', 'dinner', 'Hes', 'been', 'practicing', 'the', 'guitar', 'every', 'day', 'She', 'doesnt', 'know', 'how', 'to', 'swim', 'I', 'cant', 'find', 'my', 'keys', 'anywhere']\n",
      "size of text after removing punctuations\n",
      " 1707\n",
      "size of text after removing stop words\n",
      " 1359\n",
      "\n",
      "I    prk dy\n",
      "He likes  ply bsketbll every eveng\n",
      "She went   sre  buy some groceries\n",
      "They were wchg  movie lst night\n",
      "We should go out  dner sometime\n",
      "The weher  nice dy nt \n",
      "He doesnt like  e vegetbles\n",
      "She  lwys busy wh her work\n",
      "I dt thk we should go re\n",
      "They hve been livg  th house  yers\n",
      "We need  fh th project  morrow\n",
      "He cnt come   prty th weekend\n",
      "She sid she would cll me ler\n",
      "I didnt see him   meetg yesterdy\n",
      "They went  vci lst mth\n",
      "We hve  wke up erly morrow\n",
      "The movie we wched lst night  mzg\n",
      "He  gog  v h fmily next week\n",
      "She doesnt like spicy food\n",
      "I cnt believe s lredy April\n",
      "They re gog   bech th summer\n",
      "We should go   wlk   eveng\n",
      "He sid he  o tired  go out\n",
      "She doesnt wnt  go   ccert\n",
      "I thk s gog  r morrow\n",
      "They hve  dog nmed Mx\n",
      "We went   museum lst weekend\n",
      "The book Im redg  relly terestg\n",
      "He doesnt hve time  ply video gmes\n",
      "Shes  feelg well dy\n",
      "I didnt expect  see you here\n",
      "They re plnng  trip  Europe\n",
      "We need  buy groceries  our wy home\n",
      "He got  brg h umbrell\n",
      "She hs  lot  work  do th week\n",
      "I dt like  tste  mushrooms\n",
      "They went skig durg  wter brek\n",
      "We should go   gym more ten\n",
      "He doesnt hve  cr so he wlks everywhere\n",
      "Shes gog  study brod next semester\n",
      "I didnt see th comg\n",
      "Theyre hvg  prty next weekend\n",
      "We should ve m over  dner\n",
      "Hes been prcticg  gur every dy\n",
      "She doesnt know how  swim\n",
      "I cnt fd my keys nywhere\n",
      "\n"
     ]
    }
   ],
   "source": [
    "import sys \n",
    "from string import punctuation\n",
    "\n",
    "text = \"\"\"\n",
    "I was at the park today.\n",
    "He likes to play basketball every evening.\n",
    "She went to the store to buy some groceries.\n",
    "They were watching a movie last night.\n",
    "We should go out for dinner sometime.\n",
    "The weather is nice today, isn't it?\n",
    "He doesn't like to eat vegetables.\n",
    "She is always busy with her work.\n",
    "I don't think we should go there.\n",
    "They have been living in that house for years.\n",
    "We need to finish this project by tomorrow.\n",
    "He can't come to the party this weekend.\n",
    "She said she would call me later.\n",
    "I didn't see him at the meeting yesterday.\n",
    "They went on vacation last month.\n",
    "We have to wake up early tomorrow.\n",
    "The movie we watched last night was amazing.\n",
    "He is going to visit his family next week.\n",
    "She doesn't like spicy food.\n",
    "I can't believe it's already April.\n",
    "They are going to the beach this summer.\n",
    "We should go for a walk in the evening.\n",
    "He said he was too tired to go out.\n",
    "She doesn't want to go to the concert.\n",
    "I think it's going to rain tomorrow.\n",
    "They have a dog named Max.\n",
    "We went to the museum last weekend.\n",
    "The book I'm reading is really interesting.\n",
    "He doesn't have time to play video games.\n",
    "She's not feeling well today.\n",
    "I didn't expect to see you here.\n",
    "They are planning a trip to Europe.\n",
    "We need to buy groceries on our way home.\n",
    "He forgot to bring his umbrella.\n",
    "She has a lot of work to do this week.\n",
    "I don't like the taste of mushrooms.\n",
    "They went skiing during the winter break.\n",
    "We should go to the gym more often.\n",
    "He doesn't have a car, so he walks everywhere.\n",
    "She's going to study abroad next semester.\n",
    "I didn't see that coming.\n",
    "They're having a party next weekend.\n",
    "We should invite them over for dinner.\n",
    "He's been practicing the guitar every day.\n",
    "She doesn't know how to swim.\n",
    "I can't find my keys anywhere.\n",
    "\"\"\"\n",
    "print('size of text before removing punctuations\\n',sys.getsizeof(text))\n",
    "stopWords = ['a', 'an', 'and', 'are', 'as', 'at', 'be', 'but', 'by', 'for', 'if', \n",
    "             'in', 'into', 'is', 'it', 'no', 'not', 'of', 'on', 'or', 'such', 'that',\n",
    "             'the', 'their', 'then', 'there', 'these', 'they', 'this', 'to', 'was', 'will','with']\n",
    "for i in text:\n",
    "    if i in punctuation:\n",
    "        text = text.replace(i,'')\n",
    "print(text.split())\n",
    "print('size of text after removing punctuations\\n',sys.getsizeof(text))\n",
    "for i in text.split():\n",
    "    if i in stopWords:\n",
    "        text = text.replace(i,'')\n",
    "print('size of text after removing stop words\\n',sys.getsizeof(text))\n",
    "print(text)"
   ]
  },
  {
   "cell_type": "code",
   "execution_count": 17,
   "id": "86778a6a-89ab-4d88-afc3-e00c50343f42",
   "metadata": {},
   "outputs": [
    {
     "data": {
      "text/plain": [
       "'hhg hy yb yb'"
      ]
     },
     "execution_count": 17,
     "metadata": {},
     "output_type": "execute_result"
    }
   ],
   "source": [
    "t = 'hahag ahay ayab yaba'\n",
    "for i in t:\n",
    "    if i == 'a':\n",
    "        t=t.replace(i,'')\n",
    "t"
   ]
  },
  {
   "cell_type": "code",
   "execution_count": null,
   "id": "448962fe-ddfd-446e-b951-677bf9c4ce34",
   "metadata": {},
   "outputs": [],
   "source": []
  }
 ],
 "metadata": {
  "kernelspec": {
   "display_name": "Python 3 (ipykernel)",
   "language": "python",
   "name": "python3"
  },
  "language_info": {
   "codemirror_mode": {
    "name": "ipython",
    "version": 3
   },
   "file_extension": ".py",
   "mimetype": "text/x-python",
   "name": "python",
   "nbconvert_exporter": "python",
   "pygments_lexer": "ipython3",
   "version": "3.11.7"
  },
  "widgets": {
   "application/vnd.jupyter.widget-state+json": {
    "state": {},
    "version_major": 2,
    "version_minor": 0
   }
  }
 },
 "nbformat": 4,
 "nbformat_minor": 5
}
