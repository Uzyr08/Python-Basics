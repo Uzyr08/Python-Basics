{
 "cells": [
  {
   "cell_type": "code",
   "execution_count": 1,
   "id": "49cdf454-fb60-47f4-9c1a-eed2245fb203",
   "metadata": {},
   "outputs": [
    {
     "name": "stdin",
     "output_type": "stream",
     "text": [
      "enter a number 8\n"
     ]
    },
    {
     "name": "stdout",
     "output_type": "stream",
     "text": [
      "this number is  even\n"
     ]
    }
   ],
   "source": [
    "def isEven(i):\n",
    "    if i%2==0:\n",
    "        return 'even'\n",
    "    else:\n",
    "        return 'odd'\n",
    "num = int(input('enter a number'))\n",
    "print('this number is ',isEven(num))        "
   ]
  },
  {
   "cell_type": "code",
   "execution_count": 2,
   "id": "e88130c2-db09-4e7b-bb38-bc7468c340c5",
   "metadata": {},
   "outputs": [
    {
     "name": "stdout",
     "output_type": "stream",
     "text": [
      "None\n"
     ]
    }
   ],
   "source": [
    "print(isEven.__doc__)"
   ]
  },
  {
   "cell_type": "code",
   "execution_count": 1,
   "id": "4cb1efbd-2cbe-4032-b831-e2e5b4b8410b",
   "metadata": {},
   "outputs": [
    {
     "data": {
      "text/plain": [
       "'Prints the values to a stream, or to sys.stdout by default.\\n\\n  sep\\n    string inserted between values, default a space.\\n  end\\n    string appended after the last value, default a newline.\\n  file\\n    a file-like object (stream); defaults to the current sys.stdout.\\n  flush\\n    whether to forcibly flush the stream.'"
      ]
     },
     "execution_count": 1,
     "metadata": {},
     "output_type": "execute_result"
    }
   ],
   "source": [
    "print.__doc__"
   ]
  },
  {
   "cell_type": "code",
   "execution_count": 2,
   "id": "14de9036-b5af-4465-8658-f4b6240cf249",
   "metadata": {},
   "outputs": [],
   "source": [
    "import math "
   ]
  },
  {
   "cell_type": "code",
   "execution_count": 5,
   "id": "e56ccafc-ef4d-4f6f-9a27-813761435392",
   "metadata": {},
   "outputs": [
    {
     "data": {
      "text/plain": [
       "'Return the square root of x.'"
      ]
     },
     "execution_count": 5,
     "metadata": {},
     "output_type": "execute_result"
    }
   ],
   "source": [
    "math.sqrt.__doc__"
   ]
  },
  {
   "cell_type": "code",
   "execution_count": 6,
   "id": "d55b764f-d4fe-4dae-8162-f98ddfdaee1c",
   "metadata": {},
   "outputs": [
    {
     "name": "stdout",
     "output_type": "stream",
     "text": [
      "16\n"
     ]
    }
   ],
   "source": [
    "def power(n=1,m=1):\n",
    "    return n**m\n",
    "print(power(2,4))"
   ]
  },
  {
   "cell_type": "code",
   "execution_count": 7,
   "id": "0b7c03bc-825d-4667-b8da-08dea7689cad",
   "metadata": {},
   "outputs": [
    {
     "name": "stdout",
     "output_type": "stream",
     "text": [
      "2\n"
     ]
    }
   ],
   "source": [
    "print(power(2))"
   ]
  },
  {
   "cell_type": "code",
   "execution_count": 9,
   "id": "505a36e7-561f-489b-a3e1-a82c8f14a0e9",
   "metadata": {},
   "outputs": [
    {
     "name": "stdout",
     "output_type": "stream",
     "text": [
      "4\n"
     ]
    }
   ],
   "source": [
    "print(power(4))"
   ]
  },
  {
   "cell_type": "code",
   "execution_count": 11,
   "id": "2ba20458-1ef2-4536-8bfe-0cb862e02218",
   "metadata": {},
   "outputs": [
    {
     "name": "stdout",
     "output_type": "stream",
     "text": [
      "None\n"
     ]
    }
   ],
   "source": [
    "#factorial\n",
    "\n",
    "def fact(n):\n",
    "    \n",
    "    "
   ]
  },
  {
   "cell_type": "code",
   "execution_count": 12,
   "id": "4d26d4e5-3e98-4677-847e-97dda5a0f2ea",
   "metadata": {},
   "outputs": [
    {
     "name": "stdin",
     "output_type": "stream",
     "text": [
      "enter first number\n",
      " 62\n",
      "enter second number\n",
      " 18\n"
     ]
    },
    {
     "name": "stdout",
     "output_type": "stream",
     "text": [
      "addition 80\n",
      "subtraction 44\n",
      "multiplication 1116\n",
      "division 3.4444444444444446\n"
     ]
    }
   ],
   "source": [
    "def add(n=0,m=0):\n",
    "    return n+m\n",
    "\n",
    "def mul(n=1,m=1):\n",
    "    return n*m\n",
    "\n",
    "def sub(n=0,m=0):\n",
    "    return n-m\n",
    "\n",
    "def div(n=1,m=1):\n",
    "    return n/m\n",
    "num1 = int(input('enter first number\\n'))\n",
    "num2 = int(input('enter second number\\n'))\n",
    "\n",
    "print('addition',add(num1,num2))\n",
    "print('subtraction',sub(num1,num2))\n",
    "print('multiplication',mul(num1,num2))\n",
    "print('division',div(num1,num2))"
   ]
  },
  {
   "cell_type": "code",
   "execution_count": 17,
   "id": "17662edc-01ad-4d73-a6f8-73389e0b4eb5",
   "metadata": {},
   "outputs": [
    {
     "name": "stdout",
     "output_type": "stream",
     "text": [
      "120\n"
     ]
    }
   ],
   "source": [
    "#factorial\n",
    "\n",
    "\n",
    "def fact(n=1):\n",
    "    if n==0:\n",
    "        return 1\n",
    "    else:\n",
    "        return (n * fact(n-1))\n",
    "\n",
    "print(fact(5))"
   ]
  },
  {
   "cell_type": "code",
   "execution_count": 32,
   "id": "6600341f-223f-408d-a59a-1b1b15160bd0",
   "metadata": {},
   "outputs": [
    {
     "name": "stdout",
     "output_type": "stream",
     "text": [
      "number is not prime\n"
     ]
    }
   ],
   "source": [
    "#prime number\n",
    "\n",
    "def prime(n):\n",
    "    flag = 0\n",
    "    for i in range(2,n):\n",
    "        if n%i==0:\n",
    "            flag = 1\n",
    "    if flag == 1:\n",
    "        return 'number is not prime'\n",
    "    else:\n",
    "         return 'number is prime'\n",
    "\n",
    "print(prime(15))\n",
    "    "
   ]
  },
  {
   "cell_type": "code",
   "execution_count": 35,
   "id": "75c31261-0177-49cf-adde-49c19e7dbb42",
   "metadata": {},
   "outputs": [
    {
     "name": "stdout",
     "output_type": "stream",
     "text": [
      "28\n"
     ]
    }
   ],
   "source": [
    "#sum of items in list\n",
    "\n",
    "\n",
    "def sum(n):\n",
    "    s = 0\n",
    "    for i in n:\n",
    "        s+=i\n",
    "    return s\n",
    "        \n",
    "\n",
    "l = [1,2,3,4,5,6,7]\n",
    "\n",
    "print(sum(l))"
   ]
  },
  {
   "cell_type": "code",
   "execution_count": null,
   "id": "760b4321-050f-4813-8962-ae530985c81d",
   "metadata": {},
   "outputs": [],
   "source": [
    "# reverse a string \n",
    "\n",
    "\n",
    "def reverse(str):\n",
    "    "
   ]
  },
  {
   "cell_type": "code",
   "execution_count": 36,
   "id": "9454ea38-e002-40d7-b869-2b19ba06d888",
   "metadata": {},
   "outputs": [
    {
     "name": "stdout",
     "output_type": "stream",
     "text": [
      "r\n"
     ]
    }
   ],
   "source": [
    "str = 'uzair'\n",
    "rstr = ''\n",
    "for i in str:\n",
    "    rstr+=i"
   ]
  },
  {
   "cell_type": "code",
   "execution_count": null,
   "id": "171e611e-8183-4660-a543-8ef847ed6664",
   "metadata": {},
   "outputs": [],
   "source": []
  }
 ],
 "metadata": {
  "kernelspec": {
   "display_name": "Python 3 (ipykernel)",
   "language": "python",
   "name": "python3"
  },
  "language_info": {
   "codemirror_mode": {
    "name": "ipython",
    "version": 3
   },
   "file_extension": ".py",
   "mimetype": "text/x-python",
   "name": "python",
   "nbconvert_exporter": "python",
   "pygments_lexer": "ipython3",
   "version": "3.11.7"
  }
 },
 "nbformat": 4,
 "nbformat_minor": 5
}
